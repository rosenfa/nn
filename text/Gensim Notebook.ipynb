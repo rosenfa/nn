{
 "cells": [
  {
   "cell_type": "markdown",
   "metadata": {},
   "source": [
    "Let's have some fun with Word2Vec. First step, download Wikipedia-- this might take a bit of time :)\n",
    "You will need to install Gensim first.  See: https://github.com/RaRe-Technologies/gensim-data/blob/master/README.md"
   ]
  },
  {
   "cell_type": "code",
   "execution_count": 1,
   "metadata": {},
   "outputs": [],
   "source": [
    "import gensim\n",
    "import gensim.downloader as api\n",
    "info = api.info()\n",
    "\n",
    "model2 = api.load('word2vec-google-news-300')  # download the model and return as object ready for use"
   ]
  },
  {
   "cell_type": "markdown",
   "metadata": {},
   "source": [
    "Now, let's have some fun :) -- standard things:"
   ]
  },
  {
   "cell_type": "code",
   "execution_count": 2,
   "metadata": {},
   "outputs": [
    {
     "name": "stdout",
     "output_type": "stream",
     "text": [
      "[('queen', 0.7118192911148071)]\n"
     ]
    },
    {
     "data": {
      "text/plain": [
       "[('woman', 0.7664012312889099),\n",
       " ('boy', 0.6824870109558105),\n",
       " ('teenager', 0.6586930751800537),\n",
       " ('teenage_girl', 0.6147903203964233),\n",
       " ('girl', 0.5921714305877686),\n",
       " ('suspected_purse_snatcher', 0.571636438369751),\n",
       " ('robber', 0.5585119128227234),\n",
       " ('Robbery_suspect', 0.5584409236907959),\n",
       " ('teen_ager', 0.5549196004867554),\n",
       " ('men', 0.5489763021469116)]"
      ]
     },
     "execution_count": 2,
     "metadata": {},
     "output_type": "execute_result"
    }
   ],
   "source": [
    "print(model2.most_similar(positive=['woman', 'king'], negative=['man'], topn=1)) #as promised :)\n",
    "model2.most_similar(['man'])"
   ]
  },
  {
   "cell_type": "code",
   "execution_count": 3,
   "metadata": {},
   "outputs": [
    {
     "name": "stdout",
     "output_type": "stream",
     "text": [
      "[('mother', 0.831214427947998), ('daughter', 0.8000643253326416), ('husband', 0.769158124923706)]\n",
      "[('Shlomit', 0.5966184139251709), ('Roee', 0.5872178673744202), ('Anat', 0.5677245855331421)]\n"
     ]
    }
   ],
   "source": [
    "print(model2.most_similar(['girl', 'father'], ['boy'], topn=3))\n",
    "print(model2.most_similar(['Avi', 'Galit'], ['Shlomo'], topn=3))"
   ]
  },
  {
   "cell_type": "code",
   "execution_count": 10,
   "metadata": {},
   "outputs": [
    {
     "ename": "SyntaxError",
     "evalue": "keyword argument repeated (<ipython-input-10-9765ab9f1340>, line 1)",
     "output_type": "error",
     "traceback": [
      "\u001b[1;36m  File \u001b[1;32m\"<ipython-input-10-9765ab9f1340>\"\u001b[1;36m, line \u001b[1;32m1\u001b[0m\n\u001b[1;33m    print(model2.most_similar(positive=['Avi', 'Galit'], positive=['Shlomo'], topn=1)) #as promised :)\u001b[0m\n\u001b[1;37m                                                        ^\u001b[0m\n\u001b[1;31mSyntaxError\u001b[0m\u001b[1;31m:\u001b[0m keyword argument repeated\n"
     ]
    }
   ],
   "source": [
    "print(model2.most_similar(positive=['Avi', 'Galit'], negative=['Shlomo'], topn=1)) #as promised :)"
   ]
  },
  {
   "cell_type": "code",
   "execution_count": 13,
   "metadata": {},
   "outputs": [
    {
     "name": "stdout",
     "output_type": "stream",
     "text": [
      "[ 0.04052734  0.0625     -0.01745605  0.07861328  0.03271484 -0.01263428\n",
      "  0.00964355  0.12353516 -0.02148438  0.15234375 -0.05834961 -0.10644531\n",
      "  0.02124023  0.13574219 -0.13183594  0.17675781  0.27148438  0.13769531\n",
      " -0.17382812 -0.14160156 -0.03076172  0.19628906 -0.03295898  0.125\n",
      "  0.25390625  0.12695312 -0.15234375  0.03198242  0.01135254 -0.01361084\n",
      " -0.12890625  0.01019287  0.23925781 -0.08447266  0.140625    0.13085938\n",
      " -0.04516602  0.06494141  0.02539062  0.05615234  0.24609375 -0.20507812\n",
      "  0.23632812 -0.00860596 -0.02294922  0.05078125  0.10644531 -0.03564453\n",
      "  0.08740234 -0.05712891  0.08496094  0.23535156 -0.10107422 -0.03564453\n",
      " -0.04736328  0.04736328 -0.14550781 -0.10986328  0.14746094 -0.23242188\n",
      " -0.07275391  0.19628906 -0.37890625 -0.07226562  0.04833984  0.11914062\n",
      "  0.06103516 -0.12109375 -0.27929688  0.05200195  0.04907227 -0.02709961\n",
      "  0.1328125   0.03369141 -0.32226562  0.04223633 -0.08789062  0.15429688\n",
      "  0.09472656  0.10351562 -0.02856445  0.00128174 -0.00427246  0.24609375\n",
      " -0.05957031 -0.16894531 -0.09619141  0.16796875  0.0133667   0.04882812\n",
      "  0.08349609  0.06347656 -0.00872803 -0.08642578 -0.03857422 -0.08251953\n",
      "  0.15722656  0.22753906 -0.00762939 -0.19921875 -0.06347656  0.12792969\n",
      " -0.06347656 -0.03027344  0.0456543   0.06298828 -0.02526855 -0.06787109\n",
      " -0.01141357 -0.13574219  0.02978516  0.10400391 -0.15917969 -0.08447266\n",
      "  0.29882812 -0.12597656  0.11425781 -0.08105469 -0.09082031 -0.07910156\n",
      " -0.11181641 -0.09619141  0.02770996  0.14257812 -0.26757812 -0.09375\n",
      "  0.03979492 -0.17871094 -0.02819824  0.01464844 -0.31640625 -0.24511719\n",
      " -0.08935547  0.09716797 -0.00964355 -0.14746094  0.15234375  0.21582031\n",
      "  0.05981445  0.23828125 -0.05151367  0.14941406  0.13574219 -0.03222656\n",
      " -0.265625   -0.11181641 -0.23046875 -0.140625    0.25585938 -0.15429688\n",
      "  0.1796875   0.15527344 -0.21582031  0.36328125 -0.1015625   0.04980469\n",
      "  0.07177734 -0.14550781 -0.03198242  0.00952148 -0.12109375  0.12109375\n",
      "  0.09765625  0.07763672  0.3203125  -0.22265625 -0.08447266 -0.10742188\n",
      "  0.11279297 -0.13867188 -0.21875     0.0145874   0.13378906 -0.00921631\n",
      "  0.00921631  0.16894531  0.16894531 -0.078125   -0.00665283  0.03735352\n",
      " -0.10888672 -0.25390625  0.01452637 -0.09716797 -0.19628906 -0.01782227\n",
      " -0.28125    -0.02050781 -0.02905273 -0.09375    -0.17675781  0.21484375\n",
      " -0.05224609 -0.11572266 -0.01977539 -0.10839844 -0.01342773 -0.15332031\n",
      " -0.140625   -0.11816406  0.09228516  0.109375    0.05761719 -0.03466797\n",
      "  0.03564453 -0.12011719 -0.14257812 -0.00072479 -0.06689453  0.11914062\n",
      " -0.10449219  0.07861328 -0.12792969  0.09570312 -0.00817871  0.07128906\n",
      "  0.20703125 -0.03149414  0.09570312  0.17285156 -0.07958984 -0.02429199\n",
      " -0.07519531 -0.07568359  0.09521484 -0.06494141 -0.00689697 -0.09033203\n",
      "  0.03100586  0.19921875 -0.10644531 -0.11474609  0.18652344 -0.05078125\n",
      "  0.0859375   0.00128937 -0.18847656 -0.20019531 -0.02832031  0.11328125\n",
      "  0.25976562  0.22070312  0.04101562  0.00171661  0.07568359 -0.01196289\n",
      "  0.0177002  -0.05883789 -0.25976562 -0.234375   -0.04956055  0.25976562\n",
      "  0.15332031  0.15136719  0.08300781 -0.15527344  0.04931641  0.07519531\n",
      " -0.05078125 -0.1328125  -0.13574219  0.04199219 -0.14257812  0.02099609\n",
      "  0.07861328  0.01611328  0.01623535 -0.21582031  0.01599121 -0.04882812\n",
      " -0.02404785  0.13476562  0.08496094 -0.01196289  0.10009766 -0.13867188\n",
      "  0.08056641 -0.22070312 -0.12011719  0.18945312  0.05444336 -0.05053711\n",
      "  0.00147247  0.14160156 -0.06494141 -0.05566406 -0.09033203 -0.0267334\n",
      " -0.10498047  0.02416992  0.01422119  0.1875     -0.16503906  0.01538086\n",
      " -0.04174805  0.05444336 -0.01184082 -0.15625     0.00193024 -0.06982422]\n"
     ]
    }
   ],
   "source": [
    "print(model2['good'])"
   ]
  },
  {
   "cell_type": "code",
   "execution_count": 14,
   "metadata": {},
   "outputs": [
    {
     "data": {
      "text/plain": [
       "300"
      ]
     },
     "execution_count": 14,
     "metadata": {},
     "output_type": "execute_result"
    }
   ],
   "source": [
    "len(model2['good'])"
   ]
  },
  {
   "cell_type": "code",
   "execution_count": 15,
   "metadata": {},
   "outputs": [
    {
     "data": {
      "text/plain": [
       "[('good', 0.7190051078796387),\n",
       " ('terrible', 0.6828612089157104),\n",
       " ('horrible', 0.6702598333358765),\n",
       " ('Bad', 0.669891893863678),\n",
       " ('lousy', 0.6647640466690063),\n",
       " ('crummy', 0.5677819848060608),\n",
       " ('horrid', 0.5651682615280151),\n",
       " ('awful', 0.5527253150939941),\n",
       " ('dreadful', 0.5526429414749146),\n",
       " ('horrendous', 0.5445998311042786)]"
      ]
     },
     "execution_count": 15,
     "metadata": {},
     "output_type": "execute_result"
    }
   ],
   "source": [
    "model2.most_similar('bad', topn=10)"
   ]
  },
  {
   "cell_type": "code",
   "execution_count": 16,
   "metadata": {},
   "outputs": [
    {
     "name": "stdout",
     "output_type": "stream",
     "text": [
      "0.72915095\n"
     ]
    }
   ],
   "source": [
    "print(model2.similarity('good', 'great'))"
   ]
  },
  {
   "cell_type": "code",
   "execution_count": 17,
   "metadata": {},
   "outputs": [
    {
     "name": "stdout",
     "output_type": "stream",
     "text": [
      "0.6634127\n"
     ]
    }
   ],
   "source": [
    "print(model2.similarity('amazing', 'great'))"
   ]
  },
  {
   "cell_type": "code",
   "execution_count": 18,
   "metadata": {},
   "outputs": [
    {
     "name": "stdout",
     "output_type": "stream",
     "text": [
      "0.8229274\n"
     ]
    }
   ],
   "source": [
    "print(model2.similarity('horrid', 'dreadful'))"
   ]
  },
  {
   "cell_type": "code",
   "execution_count": 20,
   "metadata": {},
   "outputs": [
    {
     "name": "stdout",
     "output_type": "stream",
     "text": [
      "0.7190051\n"
     ]
    }
   ],
   "source": [
    "print(model2.similarity('bad', 'good'))"
   ]
  },
  {
   "cell_type": "code",
   "execution_count": 21,
   "metadata": {},
   "outputs": [
    {
     "name": "stdout",
     "output_type": "stream",
     "text": [
      "Most similar to avi\n",
      "[('wmv', 0.7594282031059265), ('vob', 0.7586802244186401), ('mkv', 0.7181439399719238), ('rar', 0.7129049301147461), ('asf', 0.7023041248321533), ('divx', 0.6954100131988525), ('wav', 0.6880412697792053), ('wma', 0.6738564968109131), ('mp4', 0.6690318584442139), ('mov', 0.6610670685768127), ('mpeg2', 0.6570378541946411), ('swf', 0.6554815769195557), ('mpeg4', 0.6521718502044678), ('avi_wmv', 0.6494132280349731), ('flv', 0.6487449407577515), ('m2ts', 0.6475299596786499), ('cdrom', 0.6451725959777832), ('flac', 0.6446440815925598), ('psd', 0.6419892311096191), ('.3_gp', 0.6405047178268433)]\n"
     ]
    }
   ],
   "source": [
    "print(\"Most similar to avi\")\n",
    "print(model2.most_similar(positive=['avi'],topn=20))"
   ]
  },
  {
   "cell_type": "code",
   "execution_count": 23,
   "metadata": {},
   "outputs": [
    {
     "name": "stdout",
     "output_type": "stream",
     "text": [
      "Most similar to Avi\n",
      "[('Yoav', 0.7136858105659485), ('Shlomo', 0.7056699991226196), ('Moshe', 0.7015199065208435), ('Yuval', 0.6903749704360962), ('Aharon', 0.6880756616592407), ('Nadav', 0.6878622770309448), ('Nir', 0.6866357326507568), ('Eran', 0.6815195679664612), ('Avraham', 0.6812535524368286), ('Yossi', 0.6811612844467163), ('Yaakov', 0.6778566241264343), ('Yehuda', 0.6767500042915344), ('Oded', 0.6759375333786011), ('Itzhak', 0.6719013452529907), ('Yael', 0.6675217151641846), ('Yariv', 0.6651560068130493), ('Zeev', 0.6638180017471313), ('Anat', 0.6622533798217773), ('Lior', 0.6600749492645264), ('Yair', 0.6542009711265564)]\n"
     ]
    }
   ],
   "source": [
    "print(\"Most similar to Avi\")\n",
    "print(model2.most_similar(positive=['Avi'],topn=20))"
   ]
  }
 ],
 "metadata": {
  "kernelspec": {
   "display_name": "Python 3",
   "language": "python",
   "name": "python3"
  },
  "language_info": {
   "codemirror_mode": {
    "name": "ipython",
    "version": 3
   },
   "file_extension": ".py",
   "mimetype": "text/x-python",
   "name": "python",
   "nbconvert_exporter": "python",
   "pygments_lexer": "ipython3",
   "version": "3.7.3"
  }
 },
 "nbformat": 4,
 "nbformat_minor": 2
}
