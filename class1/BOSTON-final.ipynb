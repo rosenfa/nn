{
  "nbformat": 4,
  "nbformat_minor": 0,
  "metadata": {
    "colab": {
      "name": "Copy of BOSTON.ipynb",
      "provenance": [],
      "collapsed_sections": [],
      "toc_visible": true
    },
    "kernelspec": {
      "display_name": "Python 3",
      "language": "python",
      "name": "python3"
    },
    "language_info": {
      "codemirror_mode": {
        "name": "ipython",
        "version": 3
      },
      "file_extension": ".py",
      "mimetype": "text/x-python",
      "name": "python",
      "nbconvert_exporter": "python",
      "pygments_lexer": "ipython3",
      "version": "3.7.3"
    }
  },
  "cells": [
    {
      "cell_type": "markdown",
      "metadata": {
        "id": "CU351N8Cs5FY"
      },
      "source": [
        "## **TASK :**\n",
        "\n",
        "**Boston Housing DataSet** is one of the DataSets available in **sklearn**. Our task is to :\n",
        "1. **Code Gradient Descent for N features** and come up with predictions**(Market Value of the houses)** for the Boston Housing DataSet.\n",
        "2. Try and test the accuracy with  **various combinations of Learning Rates and Number of Iterations**.\n",
        "3. **Try using Feature Scaling**, and see if it helps in getting better results or not. \n",
        "\n",
        "Taken from: https://colab.research.google.com/github/KeeratSachdeva/GRADIENT-DESCENT-BOSTON/blob/master/BOSTON.ipynb"
      ]
    },
    {
      "cell_type": "markdown",
      "metadata": {
        "id": "uCT346DavRXi"
      },
      "source": [
        "## **UNDERSTANDING THE DATA SET :**\n",
        "> ### ⭐ **BOSTON HOUSING DATASET :**\n",
        "*A DataSet derived from the information collected by the **U.S. Census Service** concerning **housing in the area of Boston Mass**.*\n",
        "\n",
        "![alt text](https://www.langan.com/wp-content/uploads/2019/02/Boston-996x554.jpg)\n",
        "\n",
        "\n"
      ]
    },
    {
      "cell_type": "markdown",
      "metadata": {
        "id": "uUwvVylUxW8p"
      },
      "source": [
        "## **IMPORTING ALL THE REQUIRED MODULES/LIBRARIES :**"
      ]
    },
    {
      "cell_type": "code",
      "metadata": {
        "id": "c0iwfy-XxgH1"
      },
      "source": [
        "import pandas as pd                                   # For Data Loading, Cleaning, Analysis and Manipulation.\n",
        "import numpy as np                                    # For Mathematical Calculations and Equation Solving.\n",
        "\n",
        "from sklearn import datasets                          # For loading the Boston DataSet. \n",
        "from sklearn import preprocessing                     # For Feature Scaling.\n",
        "from sklearn import model_selection                   # For train_test_split().\n",
        "from sklearn.linear_model import LinearRegression     # For sklearn's LinearRegression. \n",
        "\n",
        "# For Data Visualization :\n",
        "import matplotlib.pyplot as plt\n",
        "import seaborn as sns"
      ],
      "execution_count": null,
      "outputs": []
    },
    {
      "cell_type": "markdown",
      "metadata": {
        "id": "QW8e8WwdwY5b"
      },
      "source": [
        "## **LOADING THE DATASET :**"
      ]
    },
    {
      "cell_type": "code",
      "metadata": {
        "colab": {
          "base_uri": "https://localhost:8080/",
          "height": 204
        },
        "id": "sJffll5sLh65",
        "outputId": "b58fab14-4d62-4f5a-ca4c-d15e117a5f57"
      },
      "source": [
        "boston = datasets.load_boston()          # Loading the Boston DataSet.\n",
        "X = boston.data                          # X/ INPUTS/ Predictor Variables/ Independent Variables.  \n",
        "Y = boston.target                        # Y/ OUTPUT/ Target Variable/ Dependent Variable.\n",
        "\n",
        "# Performing the train_test_split :\n",
        "X_train, X_test, Y_train, Y_test = model_selection.train_test_split(X, Y, test_size = 0.25, random_state = 0)\n",
        "\n",
        "# Creating a DataFrame from X_train :\n",
        "df = pd.DataFrame(X_train, columns = boston.feature_names)\n",
        "df.head()                                # Looking at the first 5 entries."
      ],
      "execution_count": null,
      "outputs": [
        {
          "output_type": "execute_result",
          "data": {
            "text/html": [
              "<div>\n",
              "<style scoped>\n",
              "    .dataframe tbody tr th:only-of-type {\n",
              "        vertical-align: middle;\n",
              "    }\n",
              "\n",
              "    .dataframe tbody tr th {\n",
              "        vertical-align: top;\n",
              "    }\n",
              "\n",
              "    .dataframe thead th {\n",
              "        text-align: right;\n",
              "    }\n",
              "</style>\n",
              "<table border=\"1\" class=\"dataframe\">\n",
              "  <thead>\n",
              "    <tr style=\"text-align: right;\">\n",
              "      <th></th>\n",
              "      <th>CRIM</th>\n",
              "      <th>ZN</th>\n",
              "      <th>INDUS</th>\n",
              "      <th>CHAS</th>\n",
              "      <th>NOX</th>\n",
              "      <th>RM</th>\n",
              "      <th>AGE</th>\n",
              "      <th>DIS</th>\n",
              "      <th>RAD</th>\n",
              "      <th>TAX</th>\n",
              "      <th>PTRATIO</th>\n",
              "      <th>B</th>\n",
              "      <th>LSTAT</th>\n",
              "    </tr>\n",
              "  </thead>\n",
              "  <tbody>\n",
              "    <tr>\n",
              "      <th>0</th>\n",
              "      <td>0.19133</td>\n",
              "      <td>22.0</td>\n",
              "      <td>5.86</td>\n",
              "      <td>0.0</td>\n",
              "      <td>0.431</td>\n",
              "      <td>5.605</td>\n",
              "      <td>70.2</td>\n",
              "      <td>7.9549</td>\n",
              "      <td>7.0</td>\n",
              "      <td>330.0</td>\n",
              "      <td>19.1</td>\n",
              "      <td>389.13</td>\n",
              "      <td>18.46</td>\n",
              "    </tr>\n",
              "    <tr>\n",
              "      <th>1</th>\n",
              "      <td>0.10328</td>\n",
              "      <td>25.0</td>\n",
              "      <td>5.13</td>\n",
              "      <td>0.0</td>\n",
              "      <td>0.453</td>\n",
              "      <td>5.927</td>\n",
              "      <td>47.2</td>\n",
              "      <td>6.9320</td>\n",
              "      <td>8.0</td>\n",
              "      <td>284.0</td>\n",
              "      <td>19.7</td>\n",
              "      <td>396.90</td>\n",
              "      <td>9.22</td>\n",
              "    </tr>\n",
              "    <tr>\n",
              "      <th>2</th>\n",
              "      <td>0.10469</td>\n",
              "      <td>40.0</td>\n",
              "      <td>6.41</td>\n",
              "      <td>1.0</td>\n",
              "      <td>0.447</td>\n",
              "      <td>7.267</td>\n",
              "      <td>49.0</td>\n",
              "      <td>4.7872</td>\n",
              "      <td>4.0</td>\n",
              "      <td>254.0</td>\n",
              "      <td>17.6</td>\n",
              "      <td>389.25</td>\n",
              "      <td>6.05</td>\n",
              "    </tr>\n",
              "    <tr>\n",
              "      <th>3</th>\n",
              "      <td>8.71675</td>\n",
              "      <td>0.0</td>\n",
              "      <td>18.10</td>\n",
              "      <td>0.0</td>\n",
              "      <td>0.693</td>\n",
              "      <td>6.471</td>\n",
              "      <td>98.8</td>\n",
              "      <td>1.7257</td>\n",
              "      <td>24.0</td>\n",
              "      <td>666.0</td>\n",
              "      <td>20.2</td>\n",
              "      <td>391.98</td>\n",
              "      <td>17.12</td>\n",
              "    </tr>\n",
              "    <tr>\n",
              "      <th>4</th>\n",
              "      <td>10.83420</td>\n",
              "      <td>0.0</td>\n",
              "      <td>18.10</td>\n",
              "      <td>0.0</td>\n",
              "      <td>0.679</td>\n",
              "      <td>6.782</td>\n",
              "      <td>90.8</td>\n",
              "      <td>1.8195</td>\n",
              "      <td>24.0</td>\n",
              "      <td>666.0</td>\n",
              "      <td>20.2</td>\n",
              "      <td>21.57</td>\n",
              "      <td>25.79</td>\n",
              "    </tr>\n",
              "  </tbody>\n",
              "</table>\n",
              "</div>"
            ],
            "text/plain": [
              "       CRIM    ZN  INDUS  CHAS    NOX  ...   RAD    TAX  PTRATIO       B  LSTAT\n",
              "0   0.19133  22.0   5.86   0.0  0.431  ...   7.0  330.0     19.1  389.13  18.46\n",
              "1   0.10328  25.0   5.13   0.0  0.453  ...   8.0  284.0     19.7  396.90   9.22\n",
              "2   0.10469  40.0   6.41   1.0  0.447  ...   4.0  254.0     17.6  389.25   6.05\n",
              "3   8.71675   0.0  18.10   0.0  0.693  ...  24.0  666.0     20.2  391.98  17.12\n",
              "4  10.83420   0.0  18.10   0.0  0.679  ...  24.0  666.0     20.2   21.57  25.79\n",
              "\n",
              "[5 rows x 13 columns]"
            ]
          },
          "metadata": {
            "tags": []
          },
          "execution_count": 75
        }
      ]
    },
    {
      "cell_type": "code",
      "metadata": {
        "colab": {
          "base_uri": "https://localhost:8080/",
          "height": 357
        },
        "id": "9vRHzH9myoOr",
        "outputId": "a7b817a9-3517-4ae8-8206-d3f950dce44f"
      },
      "source": [
        "df.info()                                # A brief information/summary of the DataFrame."
      ],
      "execution_count": null,
      "outputs": [
        {
          "output_type": "stream",
          "text": [
            "<class 'pandas.core.frame.DataFrame'>\n",
            "RangeIndex: 379 entries, 0 to 378\n",
            "Data columns (total 13 columns):\n",
            " #   Column   Non-Null Count  Dtype  \n",
            "---  ------   --------------  -----  \n",
            " 0   CRIM     379 non-null    float64\n",
            " 1   ZN       379 non-null    float64\n",
            " 2   INDUS    379 non-null    float64\n",
            " 3   CHAS     379 non-null    float64\n",
            " 4   NOX      379 non-null    float64\n",
            " 5   RM       379 non-null    float64\n",
            " 6   AGE      379 non-null    float64\n",
            " 7   DIS      379 non-null    float64\n",
            " 8   RAD      379 non-null    float64\n",
            " 9   TAX      379 non-null    float64\n",
            " 10  PTRATIO  379 non-null    float64\n",
            " 11  B        379 non-null    float64\n",
            " 12  LSTAT    379 non-null    float64\n",
            "dtypes: float64(13)\n",
            "memory usage: 38.6 KB\n"
          ],
          "name": "stdout"
        }
      ]
    },
    {
      "cell_type": "markdown",
      "metadata": {
        "id": "T3ui5IUkFsqd"
      },
      "source": [
        "So, We are having the **training_data corresponding to 379 houses in the area of Boston Mass**.\n",
        "\n",
        "We are having **13 columns/features** out of which **all the 13 are of type float(8 bit)** and **none of the column contains any Nulls/NaNs**.\n",
        "\n"
      ]
    },
    {
      "cell_type": "markdown",
      "metadata": {
        "id": "qOCd7StCx8oK"
      },
      "source": [
        "## **UNDERSTANDING THE MEANING OF EACH FEATURE/COLUMN :**"
      ]
    },
    {
      "cell_type": "markdown",
      "metadata": {
        "id": "6FxwQQthyQI2"
      },
      "source": [
        "Number of Instances : ***379***.\n",
        "\n",
        "Number of Attributes: ***13 numeric/categorical predictive***.\n",
        "\n",
        "***Predictor Variables :***\n",
        "> 1. ***CRIM :*** **per capita crime rate** by town.\n",
        "2. ***ZN :***       **proportion of residential land zoned for lots** over 25,000 sq.ft.\n",
        "3. ***INDUS :***    **proportion of non-retail business acres** per town.\n",
        "4. ***CHAS :*** Charles River dummy variable **(= 1 if tract bounds river; 0 otherwise)**.\n",
        "5. ***NOX :***      **nitric oxides concentration** (parts per 10 million).\n",
        "6. ***RM :***       average number of **rooms per dwelling**.\n",
        "7. ***AGE :***      proportion of **owner-occupied units built prior to 1940**.\n",
        "8. ***DIS :***      weighted distances to five Boston employment centres.\n",
        "9. ***RAD :***      index of **accessibility to radial highways**.\n",
        "10. ***TAX :***      **full-value property-tax rate** per $10,000\n",
        "11. ***PTRATIO :*** **pupil-teacher ratio** by town.\n",
        "12. ***B :***        **1000(Bk - 0.63)^2** where Bk is the proportion of blacks **(people of African American descent)** by town.\n",
        "13. ***LSTAT :***    % lower status of the population.\n",
        "\n",
        "***Target Variable :***\n",
        "\n",
        "***MEDV :*** Median value of owner-occupied homes in $1000s.\n",
        "\n"
      ]
    },
    {
      "cell_type": "markdown",
      "metadata": {
        "id": "zJ2mZL9KarjY"
      },
      "source": [
        "## **GRADIENT DESCENT :**"
      ]
    },
    {
      "cell_type": "markdown",
      "metadata": {
        "id": "iBulKh2Pa05w"
      },
      "source": [
        "*Since we are having **only 379 training data points which are not too large**, So we will be using the **Batch Gradient Descent** to find out the optimal coefficients/weights.*"
      ]
    },
    {
      "cell_type": "markdown",
      "metadata": {
        "id": "iP-_RWwPmMkx"
      },
      "source": [
        "### **DEFINING ALL THE REQUIRED FUNCTIONS :**"
      ]
    },
    {
      "cell_type": "code",
      "metadata": {
        "id": "s8p-KvTbXtL-"
      },
      "source": [
        "# A function that takes in the training data(with the all ones Column) and the coefficients array and returns the cost.\n",
        "def cost(X_train, Y_train, coef_array):\n",
        "  return ((Y_train - (X_train @ coef_array))**2).mean()\n",
        "\n",
        "# A function that predicts the Output for a given set/array of Inputs. \n",
        "def predict(X, coef_array):\n",
        "  return X @ coef_array\n",
        "\n",
        "# A function that finds the COD(Coefficient Of Determination).\n",
        "def score(X, Y, coef_array):\n",
        "  Y_predicted = predict(X, coef_array)\n",
        "  u = ((Y - Y_predicted)**2).sum()\n",
        "  v = ((Y - Y.mean())**2).sum()\n",
        "  return 1 - (u/v)\n",
        "\n",
        "# A function to implement the Batch Gradient Descent.\n",
        "def batchGD(X, Y_train, learning_rate, num_iterations, print_cost = False):\n",
        "\n",
        "  M, N = X.shape\n",
        "  \n",
        "  X_train = X.copy()\n",
        "  allOnes = np.ones((len(Y_train), 1))               \n",
        "  X_train = np.hstack([X_train, allOnes]) # Concatenating the allOnes column to X_train(for the intercept value).\n",
        "\n",
        "  np.random.seed(123)\n",
        "  coef_array = np.random.uniform(-10.0, 10.0, N + 1)\n",
        "  cost_array = []\n",
        "\n",
        "  for x in range(num_iterations):\n",
        "    cost_ = cost(X_train, Y_train, coef_array)\n",
        "    cost_array.append(cost_)\n",
        "    if print_cost:\n",
        "      print(\"Iteration :\", x + 1, '\\t', \"Cost : \" + '%.4f'%cost_)\n",
        "    slope_array = np.zeros(N + 1)\n",
        "    for i in range(M):\n",
        "      f_xi = (coef_array * X_train[i]).sum()\n",
        "      y_i = Y_train[i]\n",
        "      for j in range(N + 1):\n",
        "        slope_array[j] += (-2/M) * (y_i - f_xi) * X_train[i,j]\n",
        "\n",
        "    coef_array -= (learning_rate * slope_array)\n",
        "\n",
        "  return coef_array, cost_array "
      ],
      "execution_count": null,
      "outputs": []
    },
    {
      "cell_type": "markdown",
      "metadata": {
        "id": "5z16QkE2nSRD"
      },
      "source": [
        "### **WITHOUT FEATURE SCALING :**"
      ]
    },
    {
      "cell_type": "code",
      "metadata": {
        "colab": {
          "base_uri": "https://localhost:8080/",
          "height": 187
        },
        "id": "A5yPuseZbi5y",
        "outputId": "24b96e28-ea4f-419d-b1c2-fe36e2489951"
      },
      "source": [
        "# Calling the batchGD function and printing the iteration wise costs :\n",
        "\n",
        "coef_array, cost_array = batchGD(X_train, Y_train, 0.000001, 10, True)"
      ],
      "execution_count": null,
      "outputs": [
        {
          "output_type": "stream",
          "text": [
            "Iteration : 1 \t Cost : 1881279.1456\n",
            "Iteration : 2 \t Cost : 681293.0133\n",
            "Iteration : 3 \t Cost : 477863.9417\n",
            "Iteration : 4 \t Cost : 419789.1522\n",
            "Iteration : 5 \t Cost : 385137.3545\n",
            "Iteration : 6 \t Cost : 356237.3940\n",
            "Iteration : 7 \t Cost : 330342.5021\n",
            "Iteration : 8 \t Cost : 306859.3925\n",
            "Iteration : 9 \t Cost : 285521.0340\n",
            "Iteration : 10 \t Cost : 266123.7858\n"
          ],
          "name": "stdout"
        }
      ]
    },
    {
      "cell_type": "markdown",
      "metadata": {
        "id": "W7-N3wJZnYr3"
      },
      "source": [
        "**We can check, that any learning_rate below 0.000001 is resulting in an overshoot**. For this learning_rate, the Gradient Descent Algorithm is  converged, but **since the learning_rate is very small, hence the number of iterations required to reach the optimal cost would be very large**.  "
      ]
    },
    {
      "cell_type": "code",
      "metadata": {
        "colab": {
          "base_uri": "https://localhost:8080/",
          "height": 295
        },
        "id": "TNJWoC4zggn1",
        "outputId": "6cf4a467-5e0c-43cb-e7aa-bed3e20d6dbd"
      },
      "source": [
        "# Plotting a Graph between the Cost Value and the Number of iterations(100) : \n",
        "\n",
        "coef_array, cost_array = batchGD(X_train, Y_train, 0.000001, 100, False)\n",
        "\n",
        "plt.plot(np.arange(len(cost_array)), cost_array, color = 'red')\n",
        "plt.xlabel('Number of Iterations')\n",
        "plt.ylabel('Cost')\n",
        "plt.title('Cost Vs Number of Iterations')\n",
        "plt.grid(ls = '--')\n",
        "\n",
        "plt.show()"
      ],
      "execution_count": null,
      "outputs": [
        {
          "output_type": "display_data",
          "data": {
            "image/png": "[encoded data removed]",
            "text/plain": [
              "<Figure size 432x288 with 1 Axes>"
            ]
          },
          "metadata": {
            "tags": [],
            "needs_background": "light"
          }
        }
      ]
    },
    {
      "cell_type": "code",
      "metadata": {
        "colab": {
          "base_uri": "https://localhost:8080/",
          "height": 295
        },
        "id": "UgDONevthH5M",
        "outputId": "0d8122be-b71f-46d9-d5df-afd12523b92a"
      },
      "source": [
        "# Zooming-In to the graph :\n",
        "\n",
        "plt.plot(np.arange(len(cost_array)), cost_array, color = 'red')\n",
        "plt.xlabel('Number of Iterations')\n",
        "plt.ylabel('Cost')\n",
        "plt.title('Cost Vs Number of Iterations')\n",
        "plt.grid(ls = '--')\n",
        "plt.axis([20,100, 0, 150000])\n",
        "\n",
        "plt.show()"
      ],
      "execution_count": null,
      "outputs": [
        {
          "output_type": "display_data",
          "data": {
            "image/png": "[encoded data removed]",
            "text/plain": [
              "<Figure size 432x288 with 1 Axes>"
            ]
          },
          "metadata": {
            "tags": [],
            "needs_background": "light"
          }
        }
      ]
    },
    {
      "cell_type": "markdown",
      "metadata": {
        "id": "vlEP_NGKpKnL"
      },
      "source": [
        "**We can observe that starting from 18,81,279.1456 we have reduced our cost to somewhere around 60,000 in just 100 iterations.**\n"
      ]
    },
    {
      "cell_type": "markdown",
      "metadata": {
        "id": "hG1S0-BCplnK"
      },
      "source": [
        "### **WITH FEATURE SCALING :**"
      ]
    },
    {
      "cell_type": "markdown",
      "metadata": {
        "id": "Xqw8L8VVpwwl"
      },
      "source": [
        "#### **WITH STANDARDIZATION :**"
      ]
    },
    {
      "cell_type": "code",
      "metadata": {
        "id": "lwdUT-OGhmVX"
      },
      "source": [
        "std_scaler = preprocessing.StandardScaler()\n",
        "\n",
        "X_train_standardized = std_scaler.fit_transform(X_train)"
      ],
      "execution_count": null,
      "outputs": []
    },
    {
      "cell_type": "code",
      "metadata": {
        "colab": {
          "base_uri": "https://localhost:8080/",
          "height": 187
        },
        "id": "z7fEppuph7wp",
        "outputId": "bfdc9dcd-828c-4fda-f484-0dd5c4617b01"
      },
      "source": [
        "coef_array_standardized, cost_array_standardized = batchGD(X_train_standardized, Y_train, 0.1, 10, True)"
      ],
      "execution_count": null,
      "outputs": [
        {
          "output_type": "stream",
          "text": [
            "Iteration : 1 \t Cost : 1206.2690\n",
            "Iteration : 2 \t Cost : 745.9578\n",
            "Iteration : 3 \t Cost : 494.4749\n",
            "Iteration : 4 \t Cost : 334.7242\n",
            "Iteration : 5 \t Cost : 231.5744\n",
            "Iteration : 6 \t Cost : 164.5561\n",
            "Iteration : 7 \t Cost : 120.7234\n",
            "Iteration : 8 \t Cost : 91.8192\n",
            "Iteration : 9 \t Cost : 72.5628\n",
            "Iteration : 10 \t Cost : 59.5688\n"
          ],
          "name": "stdout"
        }
      ]
    },
    {
      "cell_type": "markdown",
      "metadata": {
        "id": "MC850MHeqAtd"
      },
      "source": [
        "**Drastic changes can be seen by using Standardization on our data. We are able to reach a cost of 59 in a mere 10 iterations with a significantly higher value of learning_rate.**"
      ]
    },
    {
      "cell_type": "code",
      "metadata": {
        "colab": {
          "base_uri": "https://localhost:8080/",
          "height": 295
        },
        "id": "1UwtZVzLiM37",
        "outputId": "98c773f6-e807-4625-e482-2c8c8225af11"
      },
      "source": [
        "# Plotting a Graph between the Cost Value and the Number of iterations(100) :\n",
        "\n",
        "coef_array_standardized, cost_array_standardized = batchGD(X_train_standardized, Y_train, 0.1, 100)\n",
        "\n",
        "plt.plot(np.arange(len(cost_array_standardized)), cost_array_standardized, color = 'red')\n",
        "plt.xlabel('Number of Iterations')\n",
        "plt.ylabel('Cost')\n",
        "plt.title('Cost Vs Number of Iterations')\n",
        "plt.grid(ls = '--')\n",
        "\n",
        "plt.show()"
      ],
      "execution_count": null,
      "outputs": [
        {
          "output_type": "display_data",
          "data": {
            "image/png": "[encoded data removed]",
            "text/plain": [
              "<Figure size 432x288 with 1 Axes>"
            ]
          },
          "metadata": {
            "tags": [],
            "needs_background": "light"
          }
        }
      ]
    },
    {
      "cell_type": "markdown",
      "metadata": {
        "id": "PqFUku--qqM_"
      },
      "source": [
        "**So, We can clearly observe that we have achieved a stable value of the cost around 19-20 within a mere 60 iterations.**"
      ]
    },
    {
      "cell_type": "markdown",
      "metadata": {
        "id": "8e9jD5bWsZBt"
      },
      "source": [
        "## **MAKING PREDICTIONS :**"
      ]
    },
    {
      "cell_type": "code",
      "metadata": {
        "colab": {
          "base_uri": "https://localhost:8080/",
          "height": 391
        },
        "id": "FRHCZ_LWsYY5",
        "outputId": "d34a5067-a745-4ab7-c83f-7e6a50142f87"
      },
      "source": [
        "std_scaler = preprocessing.StandardScaler()\n",
        "X_train_standardized = std_scaler.fit_transform(X_train)\n",
        "X_test_standardized = std_scaler.transform(X_test)\n",
        "\n",
        "allOnes = np.ones((len(X_test), 1))\n",
        "X_test_standardized_1 = np.hstack([X_test_standardized, allOnes])\n",
        "\n",
        "coef_array_standardized, cost_array_standardized = batchGD(X_train_standardized, Y_train, 0.1, 100)\n",
        "\n",
        "Y_predicted_batchGD = predict(X_test_standardized_1, coef_array_standardized)\n",
        "print(Y_predicted_batchGD)"
      ],
      "execution_count": null,
      "outputs": [
        {
          "output_type": "stream",
          "text": [
            "[25.65505655 23.37146364 29.0671381  11.91647605 21.48782607 19.66290499\n",
            " 20.17391112 21.40730409 18.80339373 20.22835346  5.46370095 15.89829593\n",
            " 16.93423504  5.17832791 40.12364727 32.51715592 22.06137868 36.75817326\n",
            " 31.03967727 23.23268909 24.9389994  24.24799482 20.83785627 30.04110176\n",
            " 22.28725783  9.54120411 17.85864334 18.36249372 35.97978249 21.02990679\n",
            " 17.89282481 17.67771328 19.91992149 23.68552853 29.03587174 19.35169409\n",
            " 10.94053141 24.47837848 17.08073558 14.87738463 25.87257051 20.70111757\n",
            " 23.02586647 15.00520785 24.04641341 25.15415228 19.58017952 23.26208268\n",
            "  9.87456306 24.72121352 21.32866576 17.63591641 24.23634841 30.53303589\n",
            " 13.4954445  21.54464226 20.84293854 16.04681645 13.93188548 22.01496491\n",
            " 18.33289925 21.65948947 32.75519262 31.11930653 17.40655438 32.8447882\n",
            " 18.55556669 19.50613163 18.61160915 22.81970314 22.89433991 24.11247239\n",
            " 30.53078384 29.1793388  25.57023457  4.83540794 36.8366352  23.6875624\n",
            " 27.4853058  19.51805055 28.4347468  19.36336319 18.60821404 37.86441269\n",
            " 39.30635394 23.99655625 25.04780186 15.44165903 26.4092863  16.44240494\n",
            " 16.34403716 12.96931986 24.72810137 31.12427837 22.41272827 20.3374673\n",
            " -0.17620122 25.60765895 15.36966147 17.65545284 25.27987375 22.66889327\n",
            " 32.51497043 21.90613645 27.32305886 23.4008644   6.2285908  14.56313385\n",
            " 22.46769642 28.89957587 33.01317039 12.42619717 19.93303941 20.80810786\n",
            " 12.12286341 23.35832356  4.7112077  20.07285107  8.96296963 44.41456904\n",
            " 30.99648241 12.0720351  17.46949173 21.65647024 23.60720197 19.38574444\n",
            " 34.67078465]\n"
          ],
          "name": "stdout"
        }
      ]
    },
    {
      "cell_type": "code",
      "metadata": {
        "colab": {
          "base_uri": "https://localhost:8080/",
          "height": 34
        },
        "id": "XY-P-JZBvAbz",
        "outputId": "19a1f6b7-5306-490b-b893-28a20402d1ec"
      },
      "source": [
        "print('SCORE ON TESTING DATA :', score(X_test_standardized_1, Y_test, coef_array_standardized))"
      ],
      "execution_count": null,
      "outputs": [
        {
          "output_type": "stream",
          "text": [
            "SCORE ON TESTING DATA : 0.6297682175404027\n"
          ],
          "name": "stdout"
        }
      ]
    },
    {
      "cell_type": "code",
      "metadata": {
        "colab": {
          "base_uri": "https://localhost:8080/",
          "height": 391
        },
        "id": "43jqCeAucEP0",
        "outputId": "d3cff139-ff31-4eda-a280-60b7b956fbb6"
      },
      "source": [
        "alg = LinearRegression()\n",
        "\n",
        "alg.fit(X_train_standardized, Y_train)\n",
        "\n",
        "Y_predicted_LR = alg.predict(X_test_standardized)\n",
        "\n",
        "print(Y_predicted_LR)"
      ],
      "execution_count": null,
      "outputs": [
        {
          "output_type": "stream",
          "text": [
            "[24.95233283 23.61699724 29.20588553 11.96070515 21.33362042 19.46954895\n",
            " 20.42228421 21.52044058 18.98954101 19.950983    4.92468244 16.09694058\n",
            " 16.93599574  5.33508402 39.84434398 32.33549843 22.32772572 36.54017819\n",
            " 31.03300611 23.32172503 24.92086498 24.26106474 20.71504422 30.45072552\n",
            " 22.45009234  9.87470006 17.70324412 17.974775   35.69932012 20.7940972\n",
            " 18.10554174 17.68317865 19.71354713 23.79693873 29.06528958 19.23738284\n",
            " 10.97815878 24.56199978 17.32913052 15.20340817 26.09337458 20.87706795\n",
            " 22.26187518 15.32582693 22.85847963 25.08887173 19.74138819 22.70744911\n",
            "  9.66708558 24.46175926 20.72654169 17.52545047 24.45596997 30.10668865\n",
            " 13.31250981 21.52052342 20.65642932 15.34285652 13.7741129  22.07429287\n",
            " 17.53293957 21.60707766 32.91050188 31.32796114 17.64346364 32.69909854\n",
            " 18.56579207 19.32110821 18.81256692 23.04351442 22.81649956 23.99800754\n",
            " 30.62733254 28.8662207  25.78198145  5.00689605 36.83409088 23.80490328\n",
            " 27.36965299 19.33057146 28.51439846 19.19147448 18.81694283 37.94245021\n",
            " 39.3441055  23.90759744 24.95985846 15.70262358 25.92060968 16.56968829\n",
            " 15.76303806 12.89190083 24.4389405  30.9319885  22.36798609 20.17628607\n",
            "  0.22819711 25.26459847 15.35369364 17.7983399  25.44689554 22.46612234\n",
            " 32.57911019 22.01436262 27.37542798 23.31348039  6.29811532 14.75925592\n",
            " 22.44945223 29.11172812 32.97160856 12.85457141 19.79963356 20.60017439\n",
            " 12.06928939 23.38532482  4.75243811 19.8342911   9.17555571 44.63299931\n",
            " 30.63144603 12.29971299 17.53804831 21.50222331 23.63281301 20.28259817\n",
            " 35.17973368]\n"
          ],
          "name": "stdout"
        }
      ]
    },
    {
      "cell_type": "code",
      "metadata": {
        "colab": {
          "base_uri": "https://localhost:8080/",
          "height": 34
        },
        "id": "ftaIJ5o6ceVz",
        "outputId": "71d402c6-f519-427e-c64a-38aabea333e2"
      },
      "source": [
        "print('SCORE ON TESTING DATA :', alg.score(X_test_standardized, Y_test))"
      ],
      "execution_count": null,
      "outputs": [
        {
          "output_type": "stream",
          "text": [
            "SCORE ON TESTING DATA : 0.635463843320213\n"
          ],
          "name": "stdout"
        }
      ]
    },
    {
      "cell_type": "code",
      "metadata": {
        "colab": {
          "base_uri": "https://localhost:8080/",
          "height": 296
        },
        "id": "XiFMpBIecnab",
        "outputId": "cf8aa57a-a3af-4fb8-d91f-252801232077"
      },
      "source": [
        "plt.scatter(Y_predicted_batchGD, Y_predicted_LR, marker = 'o', color = 'red')\n",
        "x = np.arange(50)\n",
        "plt.plot(x, x, color = 'black')\n",
        "plt.xlabel('Y_predicted_batchGD')\n",
        "plt.ylabel('Y_predicted_LR')\n",
        "plt.title('Y_predicted_batchGD VS Y_predicted_LR')\n",
        "plt.grid(ls = '--')\n",
        "\n",
        "plt.show()"
      ],
      "execution_count": null,
      "outputs": [
        {
          "output_type": "display_data",
          "data": {
            "image/png": "[encoded data removed]",
            "text/plain": [
              "<Figure size 432x288 with 1 Axes>"
            ]
          },
          "metadata": {
            "tags": [],
            "needs_background": "light"
          }
        }
      ]
    }
  ]
}