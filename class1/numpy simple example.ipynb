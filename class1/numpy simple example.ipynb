{
 "cells": [
  {
   "cell_type": "code",
   "execution_count": 39,
   "metadata": {},
   "outputs": [
    {
     "name": "stdout",
     "output_type": "stream",
     "text": [
      "[1 2 3 4]\n"
     ]
    }
   ],
   "source": [
    "import numpy as np\n",
    "a= np.array([1,2,3,4])\n",
    "print(a)"
   ]
  },
  {
   "cell_type": "markdown",
   "metadata": {},
   "source": [
    "How would I multiple two large arrays without vectorization?"
   ]
  },
  {
   "cell_type": "code",
   "execution_count": 52,
   "metadata": {},
   "outputs": [
    {
     "name": "stdout",
     "output_type": "stream",
     "text": [
      "0.9483418486074625\n",
      "0.3763063533725667\n",
      "0.09795264844968632\n",
      "0.18736512238805914\n",
      "0.8129289808784267\n",
      "0.14126977557579257\n",
      "0.9898191965651315\n",
      "0.9644591305680643\n",
      "0.29450524142021306\n",
      "1598789850.6036477\n",
      "1598789850.0185645\n",
      "Regular version took:585.0832462310791 miliseconds\n",
      "250449.2907371167\n"
     ]
    }
   ],
   "source": [
    "import time\n",
    "a = np.random.rand(1000000)\n",
    "b = np.random.rand(1000000)\n",
    "for i in range(1,10):\n",
    "    print(a[i])\n",
    "c = 0\n",
    "tic = time.time()\n",
    "for i in range(1000000):\n",
    "    c+=a[i]*b[i]\n",
    "toc = time.time()\n",
    "time1= 1000*(toc-tic)\n",
    "print(toc)\n",
    "print(tic)\n",
    "print(\"Regular version took:\" + str(time1) + \" miliseconds\")\n",
    "print(c)"
   ]
  },
  {
   "cell_type": "markdown",
   "metadata": {},
   "source": [
    "This is the Vectorized version of this code. Uses something called, \"SIMD: short for Single Instruction/Multiple Data\""
   ]
  },
  {
   "cell_type": "code",
   "execution_count": 48,
   "metadata": {},
   "outputs": [
    {
     "name": "stdout",
     "output_type": "stream",
     "text": [
      "Vectorized version took:0.9634494781494141 miliseconds\n",
      "249937.7535876613\n"
     ]
    }
   ],
   "source": [
    "tic = time.time()\n",
    "c = np.dot(a,b)\n",
    "toc = time.time()\n",
    "time2= 1000*(toc-tic)\n",
    "print(\"Vectorized version took:\" + str(time2) + \" miliseconds\")\n",
    "print(c)"
   ]
  },
  {
   "cell_type": "markdown",
   "metadata": {},
   "source": [
    "Another example with multiplying e^i "
   ]
  },
  {
   "cell_type": "code",
   "execution_count": 57,
   "metadata": {},
   "outputs": [
    {
     "name": "stdout",
     "output_type": "stream",
     "text": [
      "Vectorized version took:11.004209518432617 miliseconds\n",
      "[1.54076611 1.20149019 1.22703507 ... 2.35316107 2.59703723 2.10709449]\n"
     ]
    }
   ],
   "source": [
    "a = np.random.rand(1000000)\n",
    "tic = time.time()\n",
    "u = np.exp(a)\n",
    "#np.log exist, np.abs, np.maximum, np.minimum\n",
    "toc = time.time()\n",
    "time1= 1000*(toc-tic)\n",
    "print(\"Vectorized version took:\" + str(time1) + \" miliseconds\")\n",
    "print(u)"
   ]
  },
  {
   "cell_type": "code",
   "execution_count": 62,
   "metadata": {},
   "outputs": [
    {
     "name": "stdout",
     "output_type": "stream",
     "text": [
      "Vectorized version took:371.04153633117676 miliseconds\n",
      "[1.02625432 1.89950836 1.95713477 ... 2.71791207 1.81099146 2.36716918]\n"
     ]
    }
   ],
   "source": [
    "import math\n",
    "a = np.random.rand(1000000)\n",
    "tic = time.time()\n",
    "u = np.zeros(1000000)\n",
    "for i in range(1000000):\n",
    "    u[i]=math.exp(a[i])\n",
    "toc = time.time()\n",
    "time2= 1000*(toc-tic)\n",
    "print(\"Vectorized version took:\" + str(time2) + \" miliseconds\")\n",
    "print(u)"
   ]
  }
 ],
 "metadata": {
  "kernelspec": {
   "display_name": "Python 3",
   "language": "python",
   "name": "python3"
  },
  "language_info": {
   "codemirror_mode": {
    "name": "ipython",
    "version": 3
   },
   "file_extension": ".py",
   "mimetype": "text/x-python",
   "name": "python",
   "nbconvert_exporter": "python",
   "pygments_lexer": "ipython3",
   "version": "3.8.3"
  }
 },
 "nbformat": 4,
 "nbformat_minor": 4
}
