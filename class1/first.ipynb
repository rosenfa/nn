{
  "nbformat": 4,
  "nbformat_minor": 0,
  "metadata": {
    "colab": {
      "name": "Untitled2.ipynb",
      "provenance": [],
      "collapsed_sections": [],
      "authorship_tag": "ABX9TyPrnIHHuLkdAPhALPVfKchq"
    },
    "kernelspec": {
      "name": "python3",
      "display_name": "Python 3"
    }
  },
  "cells": [
    {
      "cell_type": "markdown",
      "metadata": {
        "id": "57xCuRJq-6rh"
      },
      "source": [
        "Simple Gradient Descent Example using SSE Cost Function"
      ]
    },
    {
      "cell_type": "code",
      "metadata": {
        "id": "mFmuV5gJ-5j4"
      },
      "source": [
        "import math\r\n",
        "def sse(m,b,x,y):\r\n",
        "    sum = 0\r\n",
        "    for i in range (0,len(x)):\r\n",
        "        YP=(m*x[i])+b\r\n",
        "        #print(\"X is \" + str(x[i]) + \" y is \" + str(y[i]) + \" YP is \" + str(YP))\r\n",
        "        sse_temp =  0.5*math.pow(y[i]-YP,2)\r\n",
        "        sum+=sse_temp\r\n",
        "    return sum"
      ],
      "execution_count": 12,
      "outputs": []
    },
    {
      "cell_type": "markdown",
      "metadata": {
        "id": "jR0qYQl4_GKF"
      },
      "source": [
        "No let's define the derivatives for the function y= mx + b"
      ]
    },
    {
      "cell_type": "code",
      "metadata": {
        "id": "GswqfsuF_Ma1"
      },
      "source": [
        "def dm(m,b,x,y):\r\n",
        "    sum = 0\r\n",
        "    for i in range (0,len(x)):\r\n",
        "        YP=(m*x[i])+b\r\n",
        "        #print(\"X is \" + str(x[i]) + \" y is \" + str(y[i]) + \" YP is \" + str(YP))\r\n",
        "        temp =  -1*(y[i]-YP)*x[i]\r\n",
        "        sum+=temp\r\n",
        "    return sum\r\n",
        "\r\n",
        "def db(m,b,x,y):\r\n",
        "    sum = 0\r\n",
        "    for i in range (0,len(x)):\r\n",
        "        YP=(m*x[i])+b\r\n",
        "        #print(\"X is \" + str(x[i]) + \" y is \" + str(y[i]) + \" YP is \" + str(YP))\r\n",
        "        temp =  -1*(y[i]-YP)\r\n",
        "        sum+=temp\r\n",
        "    return sum"
      ],
      "execution_count": 13,
      "outputs": []
    },
    {
      "cell_type": "markdown",
      "metadata": {
        "id": "S4z08fzn_O59"
      },
      "source": [
        "Let's create a sample set of data and set the learning parameters:"
      ]
    },
    {
      "cell_type": "code",
      "metadata": {
        "id": "P4U_FvFs_Uuz"
      },
      "source": [
        "lr=0.01\r\n",
        "b=0.45\r\n",
        "m=0.75\r\n",
        "x =[0, 0.22, 0.24, 0.33, 0.37, 0.44, 0.44, 0.57, 0.93,1]\r\n",
        "y= [0, 0.22, 0.58, 0.2, 0.55, 0.39, 0.54, 0.53, 1, 0.61]\r\n",
        "epsilon=0.0001\r\n",
        "iteration=1\r\n",
        "sse_change=sse(m,b,x,y)"
      ],
      "execution_count": 14,
      "outputs": []
    },
    {
      "cell_type": "markdown",
      "metadata": {
        "id": "jP8TeiOj_cAE"
      },
      "source": [
        "And now it's time to find what slope works best using gradient descent!"
      ]
    },
    {
      "cell_type": "code",
      "metadata": {
        "colab": {
          "base_uri": "https://localhost:8080/"
        },
        "id": "oSuAn-v-_XWf",
        "outputId": "f1443733-2440-43a4-af8a-7f8a0bc511ef"
      },
      "source": [
        "while(sse_change>epsilon):\r\n",
        "    sse_prev=sse(m,b,x,y)\r\n",
        "    print(\"Iteration is \" + str(iteration))\r\n",
        "    #print(sse(a,b,x,y))\r\n",
        "    print(\"SSE is \" + str(sse(m,b,x,y)))\r\n",
        "    print(\"dm \" + str(dm(m,b,x,y)))\r\n",
        "    print(\"db \" + str(db(m,b,x,y)))\r\n",
        "    m=m-lr*dm(m,b,x,y)\r\n",
        "    b=b-lr*db(m,b,x,y)\r\n",
        "    print(\"m is \" + str(m))    \r\n",
        "    print(\"b is \" + str(b))  \r\n",
        "    sse_change=abs(sse_prev-sse(m,b,x,y))\r\n",
        "    print(\"sse change \" + str(sse_change))\r\n",
        "    iteration+=1\r\n",
        "    if (iteration==100):\r\n",
        "        sse_change=0"
      ],
      "execution_count": 15,
      "outputs": [
        {
          "output_type": "stream",
          "text": [
            "Iteration is 1\n",
            "SSE is 0.670175\n",
            "dm 1.5312\n",
            "db 3.285\n",
            "m is 0.734688\n",
            "b is 0.4178451648\n",
            "sse change 0.12132607060566669\n",
            "Iteration is 2\n",
            "SSE is 0.5488489293943333\n",
            "dm 1.340371262592\n",
            "db 2.8939351679999996\n",
            "m is 0.72128428737408\n",
            "b is 0.38951434167321675\n",
            "sse change 0.09395323403512224\n",
            "Iteration is 3\n",
            "SSE is 0.45489569535921104\n",
            "dm 1.1724925320576094\n",
            "db 2.5497740814104906\n",
            "m is 0.7095593620535039\n",
            "b is 0.364548912468666\n",
            "sse change 0.07275697289646166\n",
            "Iteration is 4\n",
            "SSE is 0.3821387224627494\n",
            "dm 1.0248095221900457\n",
            "db 2.2468886284095677\n",
            "m is 0.6993112668316034\n",
            "b is 0.3425452897076446\n",
            "sse change 0.05634369360710767\n",
            "Iteration is 5\n",
            "SSE is 0.3257950288556417\n",
            "dm 0.8948984535691065\n",
            "db 1.9803260484919254\n",
            "m is 0.6903622822959123\n",
            "b is 0.3231483131206457\n",
            "sse change 0.043634213505691355\n",
            "Iteration is 6\n",
            "SSE is 0.28216081534995036\n",
            "dm 0.7806263939559992\n",
            "db 1.7457278928298985\n",
            "m is 0.6825560183563524\n",
            "b is 0.3060454385752027\n",
            "sse change 0.03379282860163485\n",
            "Iteration is 7\n",
            "SSE is 0.2483679867483155\n",
            "dm 0.6801163576935052\n",
            "db 1.539258709089867\n",
            "m is 0.6757548547794173\n",
            "b is 0.2909616243106969\n",
            "sse change 0.02617238358120849\n",
            "Iteration is 8\n",
            "SSE is 0.22219560316710701\n",
            "dm 0.5917165930485211\n",
            "db 1.3575432838055232\n",
            "m is 0.6698376888489321\n",
            "b is 0.27765483080588566\n",
            "sse change 0.02027173401454055\n",
            "Iteration is 9\n",
            "SSE is 0.20192386915256647\n",
            "dm 0.5139735549594733\n",
            "db 1.1976114154330082\n",
            "m is 0.6646979532993375\n",
            "b is 0.26591206064550715\n",
            "sse change 0.015702805119429453\n",
            "Iteration is 10\n",
            "SSE is 0.186221064033137\n",
            "dm 0.44560812095370184\n",
            "db 1.0568493144340634\n",
            "m is 0.6602418720898005\n",
            "b is 0.2555458735880795\n",
            "sse change 0.012165082122476967\n",
            "Iteration is 11\n",
            "SSE is 0.17405598191066005\n",
            "dm 0.3854946610664884\n",
            "db 0.9329568351684888\n",
            "m is 0.6563869254791356\n",
            "b is 0.2463913198125188\n",
            "sse change 0.009425855663702215\n",
            "Iteration is 12\n",
            "SSE is 0.16463012624695783\n",
            "dm 0.3326426192921276\n",
            "db 0.8239098398004634\n",
            "m is 0.6530604992862143\n",
            "b is 0.2383032411636728\n",
            "sse change 0.007304923914671385\n",
            "Iteration is 13\n",
            "SSE is 0.15732520233228645\n",
            "dm 0.28618030519253895\n",
            "db 0.7279270783961409\n",
            "m is 0.6501986962342889\n",
            "b is 0.2311538962382688\n",
            "sse change 0.005662745978701755\n",
            "Iteration is 14\n",
            "SSE is 0.1516624563535847\n",
            "dm 0.24534063045272578\n",
            "db 0.6434410432863598\n",
            "m is 0.6477452899297617\n",
            "b is 0.22483087045163072\n",
            "sse change 0.004391267963732126\n",
            "Iteration is 15\n",
            "SSE is 0.14727118838985256\n",
            "dm 0.20944855699668952\n",
            "db 0.5690723207974252\n",
            "m is 0.6456508043597947\n",
            "b is 0.21923523688853297\n",
            "sse change 0.0034068187705250386\n",
            "Iteration is 16\n",
            "SSE is 0.14386436961932753\n",
            "dm 0.1779100512829065\n",
            "db 0.5036070206787977\n",
            "m is 0.6438717038469657\n",
            "b is 0.21427993784502744\n",
            "sse change 0.0026446086645979805\n",
            "Iteration is 17\n",
            "SSE is 0.14121976095472955\n",
            "dm 0.15020236404341758\n",
            "db 0.4459769139154985\n",
            "m is 0.6423696802065315\n",
            "b is 0.20988836057914817\n",
            "sse change 0.002054469039196094\n",
            "Iteration is 18\n",
            "SSE is 0.13916529191553345\n",
            "dm 0.1258654764182222\n",
            "db 0.3952419539291347\n",
            "m is 0.6411110254423493\n",
            "b is 0.20599308396615068\n",
            "sse change 0.001597553351475045\n",
            "Iteration is 19\n",
            "SSE is 0.1375677385640584\n",
            "dm 0.1044945725218768\n",
            "db 0.3505748951697728\n",
            "m is 0.6400660797171306\n",
            "b is 0.20253477555037788\n",
            "sse change 0.0012437823859316188\n",
            "Iteration is 20\n",
            "SSE is 0.1363239561781268\n",
            "dm 0.08573341527424772\n",
            "db 0.3112477574195518\n",
            "m is 0.6392087455643881\n",
            "b is 0.19946122094671687\n",
            "sse change 0.0009698659196097081\n",
            "Iteration is 21\n",
            "SSE is 0.13535409025851708\n",
            "dm 0.06926851710707446\n",
            "db 0.2766199143294905\n",
            "m is 0.6385160603933173\n",
            "b is 0.19672646971018856\n",
            "sse change 0.0007577707477774143\n",
            "Iteration is 22\n",
            "SSE is 0.13459631951073966\n",
            "dm 0.054824010164203796\n",
            "db 0.24612761128754612\n",
            "m is 0.6379678202916753\n",
            "b is 0.19429008369792763\n",
            "sse change 0.0005935343663542869\n",
            "Iteration is 23\n",
            "SSE is 0.13400278514438538\n",
            "dm 0.04215713205885008\n",
            "db 0.2192747411034821\n",
            "m is 0.6375462489710868\n",
            "b is 0.19211647562484754\n",
            "sse change 0.0004663463264425183\n",
            "Iteration is 24\n",
            "SSE is 0.13353643881794286\n",
            "dm 0.03105425332332687\n",
            "db 0.19562472657720942\n",
            "m is 0.6372357064378535\n",
            "b is 0.19017432699008424\n",
            "sse change 0.00036783686999627974\n",
            "Iteration is 25\n",
            "SSE is 0.13316860194794658\n",
            "dm 0.021327381550167834\n",
            "db 0.1747933771286973\n",
            "m is 0.6370224326223519\n",
            "b is 0.18843607585002103\n",
            "sse change 0.00029152608021235094\n",
            "Iteration is 26\n",
            "SSE is 0.13287707586773423\n",
            "dm 0.012811085023439611\n",
            "db 0.15644260260568782\n",
            "m is 0.6368943217721176\n",
            "b is 0.1868774660565648\n",
            "sse change 0.0002323973310754679\n",
            "Iteration is 27\n",
            "SSE is 0.13264467853665876\n",
            "dm 0.005359785502982134\n",
            "db 0.14027488141106176\n",
            "m is 0.6368407239170878\n",
            "b is 0.18547715058507253\n",
            "sse change 0.00018656699105201735\n",
            "Iteration is 28\n",
            "SSE is 0.13245811154560674\n",
            "dm -0.0011546241354040698\n",
            "db 0.1260283924343037\n",
            "m is 0.6368522701584418\n",
            "b is 0.18421634246137203\n",
            "sse change 0.00015102866319641195\n",
            "Iteration is 29\n",
            "SSE is 0.13230708288241033\n",
            "dm -0.006844876385326576\n",
            "db 0.11347273113304607\n",
            "m is 0.6369207189222951\n",
            "b is 0.18307850757616262\n",
            "sse change 0.000123455143741652\n",
            "Iteration is 30\n",
            "SSE is 0.13218362773866868\n",
            "dm -0.011810174024603964\n",
            "db 0.10240513966884568\n",
            "m is 0.6370388206625411\n",
            "b is 0.18204909436046698\n",
            "sse change 0.00010204507564454124\n",
            "Iteration is 31\n",
            "SSE is 0.13208158266302414\n",
            "dm -0.016137813647029375\n",
            "db 0.09264718941260663\n",
            "m is 0.6372001987990115\n",
            "b is 0.18111529589894518\n",
            "sse change 8.540421190636471e-05\n"
          ],
          "name": "stdout"
        }
      ]
    },
    {
      "cell_type": "code",
      "metadata": {
        "colab": {
          "base_uri": "https://localhost:8080/"
        },
        "id": "ImrzmF4X_rpL",
        "outputId": "40f43dee-bd91-4893-a539-fad544f0e499"
      },
      "source": [
        "print(\"y = \" +str(round(m,3))+\"x + \" + str(round(b,3)))"
      ],
      "execution_count": 16,
      "outputs": [
        {
          "output_type": "stream",
          "text": [
            "y = 0.637x + 0.181\n"
          ],
          "name": "stdout"
        }
      ]
    }
  ]
}
