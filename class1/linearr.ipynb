{
 "cells": [
  {
   "cell_type": "markdown",
   "metadata": {},
   "source": [
    "Learning Linear Regression from scratch from the Boston dataset.  Code adopted from: https://github.com/prateeksharma51/Multivariate-Linear-Regression-from-scratch-in-python/blob/master/Multivariate_Linear_Regression_from_Scratch.ipynb"
   ]
  },
  {
   "cell_type": "code",
   "execution_count": 48,
   "metadata": {},
   "outputs": [],
   "source": [
    "from sklearn.datasets import load_boston\n",
    "import matplotlib.pyplot as plt \n",
    "from sklearn import preprocessing\n",
    "import numpy as np\n",
    "boston = load_boston()\n",
    "from sklearn.linear_model import LinearRegression"
   ]
  },
  {
   "cell_type": "code",
   "execution_count": 49,
   "metadata": {},
   "outputs": [],
   "source": [
    "#print(boston.DESCR)"
   ]
  },
  {
   "cell_type": "markdown",
   "metadata": {},
   "source": [
    "Print just a bit of the dataset to get a feeling..."
   ]
  },
  {
   "cell_type": "code",
   "execution_count": 50,
   "metadata": {},
   "outputs": [
    {
     "name": "stdout",
     "output_type": "stream",
     "text": [
      "Shape of Dataset :  (506, 13)\n",
      "Feature names :  ['CRIM' 'ZN' 'INDUS' 'CHAS' 'NOX' 'RM' 'AGE' 'DIS' 'RAD' 'TAX' 'PTRATIO'\n",
      " 'B' 'LSTAT']\n",
      "Target Values :  [24.  21.6 34.7 33.4 36.2 28.7 22.9 27.1 16.5 18.9 15.  18.9 21.7 20.4\n",
      " 18.2 19.9 23.1 17.5 20.2 18.2]\n"
     ]
    }
   ],
   "source": [
    "print(\"Shape of Dataset : \", boston.data.shape)\n",
    "print(\"Feature names : \", boston.feature_names)\n",
    "print(\"Target Values : \", boston.target[:20])"
   ]
  },
  {
   "cell_type": "markdown",
   "metadata": {},
   "source": [
    "Split the data into the X (dependent variables) and Y (independent variable / target). See https://en.wikipedia.org/wiki/Dependent_and_independent_variables for more if you like."
   ]
  },
  {
   "cell_type": "code",
   "execution_count": 51,
   "metadata": {},
   "outputs": [
    {
     "name": "stdout",
     "output_type": "stream",
     "text": [
      "      CRIM    ZN  INDUS  CHAS    NOX     RM   AGE     DIS  RAD    TAX  \\\n",
      "0  0.00632  18.0   2.31   0.0  0.538  6.575  65.2  4.0900  1.0  296.0   \n",
      "1  0.02731   0.0   7.07   0.0  0.469  6.421  78.9  4.9671  2.0  242.0   \n",
      "2  0.02729   0.0   7.07   0.0  0.469  7.185  61.1  4.9671  2.0  242.0   \n",
      "3  0.03237   0.0   2.18   0.0  0.458  6.998  45.8  6.0622  3.0  222.0   \n",
      "4  0.06905   0.0   2.18   0.0  0.458  7.147  54.2  6.0622  3.0  222.0   \n",
      "\n",
      "   PTRATIO       B  LSTAT  \n",
      "0     15.3  396.90   4.98  \n",
      "1     17.8  396.90   9.14  \n",
      "2     17.8  392.83   4.03  \n",
      "3     18.7  394.63   2.94  \n",
      "4     18.7  396.90   5.33  \n"
     ]
    }
   ],
   "source": [
    "import pandas as pd\n",
    "X = pd.DataFrame(boston.data, columns = boston.feature_names)\n",
    "Y = boston.target   \n",
    "print(X.head())"
   ]
  },
  {
   "cell_type": "markdown",
   "metadata": {},
   "source": [
    "Now let's split the data into training and testing. Note that no cross validation is done here."
   ]
  },
  {
   "cell_type": "code",
   "execution_count": 52,
   "metadata": {},
   "outputs": [
    {
     "name": "stdout",
     "output_type": "stream",
     "text": [
      "(339, 13)\n",
      "(167, 13)\n",
      "(339,)\n",
      "(167,)\n",
      "        CRIM   ZN  INDUS  CHAS    NOX     RM   AGE     DIS   RAD    TAX  \\\n",
      "435  11.1604  0.0  18.10   0.0  0.740  6.629  94.6  2.1247  24.0  666.0   \n",
      "88    0.0566  0.0   3.41   0.0  0.489  7.007  86.3  3.4217   2.0  270.0   \n",
      "\n",
      "     PTRATIO       B  LSTAT  \n",
      "435     20.2  109.85  23.27  \n",
      "88      17.8  396.90   5.50  \n",
      "        CRIM   ZN  INDUS  CHAS    NOX     RM   AGE     DIS   RAD    TAX  \\\n",
      "435  11.1604  0.0  18.10   0.0  0.740  6.629  94.6  2.1247  24.0  666.0   \n",
      "88    0.0566  0.0   3.41   0.0  0.489  7.007  86.3  3.4217   2.0  270.0   \n",
      "\n",
      "     PTRATIO       B  LSTAT  \n",
      "435     20.2  109.85  23.27  \n",
      "88      17.8  396.90   5.50  \n"
     ]
    }
   ],
   "source": [
    "from sklearn.model_selection import train_test_split\n",
    "X_train, X_test, Y_train, Y_test = train_test_split(X, Y, test_size = 0.33, random_state = 5)\n",
    "print(X_train.shape)\n",
    "print(X_test.shape)\n",
    "print(Y_train.shape)\n",
    "print(Y_test.shape)\n",
    "print(X_train.head(2))                                          \n",
    "print(X_train.head(2))"
   ]
  },
  {
   "cell_type": "markdown",
   "metadata": {},
   "source": [
    "Let's standardize the data. There are two ways: The built-in way (which we'll use) and from scratch."
   ]
  },
  {
   "cell_type": "code",
   "execution_count": 53,
   "metadata": {},
   "outputs": [],
   "source": [
    "scaler = preprocessing.StandardScaler()\n",
    "# Fit your data on the scaler object\n",
    "X_train_standardized = scaler.fit_transform(X_train)\n",
    "X_test_standardized = scaler.fit_transform(X_test)\n",
    "#X_train_standardized = (X_train - X_train .mean()) / X_train.std()\n",
    "#X_test_standardized  = (X_test - X_train.mean()) /  X_train.std()"
   ]
  },
  {
   "cell_type": "markdown",
   "metadata": {},
   "source": [
    "Let's setup the variable for the process.  We'll cap the number of iterations at 300 and the set the learning rate to 0.05 (completely open to change). We'll store the error values in a variable called MSE (and we'll define the error function very soon)."
   ]
  },
  {
   "cell_type": "code",
   "execution_count": 54,
   "metadata": {},
   "outputs": [],
   "source": [
    "MSE_points = []\n",
    "num_iterations = 300\n",
    "learning_rate = 0.05"
   ]
  },
  {
   "attachments": {
    "image.png": {
     "image/png": "[encoded data removed]"
    }
   },
   "cell_type": "markdown",
   "metadata": {},
   "source": [
    "Now it's time for gradient descent. First, we'll define our cost function:\n",
    "![image.png](attachment:image.png)"
   ]
  },
  {
   "cell_type": "code",
   "execution_count": 55,
   "metadata": {},
   "outputs": [],
   "source": [
    "def error_function(y_actual,y_predicted):\n",
    "    error = 0\n",
    "    for i in range(0,len(y_actual)):\n",
    "        error =  error + pow((y_actual[i] - y_predicted[i]),2)\n",
    "        return error/(2*len(y_actual))"
   ]
  },
  {
   "cell_type": "markdown",
   "metadata": {},
   "source": [
    "Now for gradient descent itself: "
   ]
  },
  {
   "cell_type": "code",
   "execution_count": 56,
   "metadata": {},
   "outputs": [],
   "source": [
    "def gradient_descent(y_actual,y_pred,x):\n",
    "    grad = np.zeros(x.shape[1])\n",
    "    for i in range(x.shape[1]):\n",
    "        for j in range(0,len(y_actual)):\n",
    "            grad[i] = - (y_actual[j] - y_pred[j])*x[j][i] + grad[i]\n",
    "    return grad/len(y_actual)"
   ]
  },
  {
   "cell_type": "markdown",
   "metadata": {},
   "source": [
    "This will be called within a loop to set the weights. Note that the \"b\" term is added in the line: w = np.append(w,1)"
   ]
  },
  {
   "cell_type": "code",
   "execution_count": 57,
   "metadata": {},
   "outputs": [],
   "source": [
    "def weights(x_train,y_train,num_iterations,learning_rate):\n",
    "    no_of_rows = x_train.shape[0]\n",
    "    no_of_columns = x_train.shape[1]\n",
    "    new_x_train = np.ones((no_of_rows,no_of_columns+1))\n",
    "    new_x_train[:,0:no_of_columns] = x_train\n",
    "    w = np.zeros(no_of_columns)\n",
    "    w = np.append(w,1)\n",
    "    for i in range(0,num_iterations):\n",
    "        y_pred = y_predicted(w,new_x_train)\n",
    "        error = error_function(y_train,y_pred)\n",
    "        #print(\"mean square error: \",error,\"after\",i,\"th iteration\")\n",
    "        MSE_points.append(error)\n",
    "        grad = gradient_descent(y_train,y_pred,new_x_train)\n",
    "        w = w - learning_rate*grad\n",
    "    return w"
   ]
  },
  {
   "cell_type": "markdown",
   "metadata": {},
   "source": [
    "Now that we have our weights we can predict (use) the model with the weights, w (also called theta in our slides).  Note that this process uses two loops: One for weights to go through all values, and one for the gradient descent. In our lectures we'll talk about using vectorization to eliminate this and you'll get to do that too!"
   ]
  },
  {
   "cell_type": "code",
   "execution_count": 58,
   "metadata": {},
   "outputs": [],
   "source": [
    "def y_predicted(w,x):\n",
    "    y_pred = np.zeros(len(x))\n",
    "    for i in range(0,len(x)):\n",
    "        for j in range(0,len(w)):\n",
    "            y_pred[i] = y_pred[i]+(w[j]*x[i][j] + w[-1])\n",
    "    return y_pred\n",
    "\n",
    "def regression_test(x_test,w):\n",
    "    row = x_test.shape[0]\n",
    "    column = x_test.shape[1]\n",
    "    new_x_test = np.ones((row,column+1))\n",
    "    new_x_test[:,0:column] = x_test\n",
    "    y_pred = y_predicted(w,new_x_test)\n",
    "    return(y_pred)"
   ]
  },
  {
   "cell_type": "markdown",
   "metadata": {},
   "source": [
    "Now we call the above functions!"
   ]
  },
  {
   "cell_type": "code",
   "execution_count": 59,
   "metadata": {},
   "outputs": [
    {
     "data": {
      "text/plain": [
       "7.565455068246605e-05"
      ]
     },
     "execution_count": 59,
     "metadata": {},
     "output_type": "execute_result"
    }
   ],
   "source": [
    "w = weights(X_train_standardized,Y_train,num_iterations,learning_rate)\n",
    "Y_pred = regression_test(X_test_standardized,w)\n",
    "error_function(Y_test,Y_pred)"
   ]
  },
  {
   "cell_type": "code",
   "execution_count": 60,
   "metadata": {},
   "outputs": [
    {
     "data": {
      "image/png": "[encoded data removed]",
      "text/plain": [
       "<Figure size 432x288 with 1 Axes>"
      ]
     },
     "metadata": {
      "needs_background": "light"
     },
     "output_type": "display_data"
    }
   ],
   "source": [
    "plt.title('Cost Function J', size = 30)\n",
    "plt.xlabel('No. of iterations', size=20)\n",
    "plt.ylabel('Cost', size=20)\n",
    "plt.plot(MSE_points)\n",
    "plt.show()"
   ]
  },
  {
   "cell_type": "markdown",
   "metadata": {},
   "source": [
    "How well did we do?  Well we can check it on the data:"
   ]
  },
  {
   "cell_type": "code",
   "execution_count": 61,
   "metadata": {},
   "outputs": [
    {
     "name": "stdout",
     "output_type": "stream",
     "text": [
      "   Actual Value  Predicted Values\n",
      "0          37.6         37.441039\n",
      "1          27.9         31.107502\n",
      "2          22.6         27.731070\n",
      "3          13.8          7.035984\n",
      "4          35.2         33.793262\n",
      "5          10.4          6.911219\n",
      "6          23.9         27.430177\n",
      "7          29.0         30.161003\n",
      "8          22.8         27.303488\n",
      "9          23.2         22.764373\n"
     ]
    }
   ],
   "source": [
    "pred_df = pd.DataFrame(\n",
    "    {\n",
    "        'Actual Value' : Y_test, \n",
    "     'Predicted Values' : Y_pred,\n",
    "    }\n",
    ")\n",
    "print(pred_df.head(10))"
   ]
  },
  {
   "cell_type": "markdown",
   "metadata": {},
   "source": [
    "We can also use the built-in MSE functions from scikit learn"
   ]
  },
  {
   "cell_type": "code",
   "execution_count": 62,
   "metadata": {},
   "outputs": [
    {
     "name": "stdout",
     "output_type": "stream",
     "text": [
      "Linear Regression (From Scratch) 28.342575757815766\n"
     ]
    }
   ],
   "source": [
    "from sklearn.metrics import mean_squared_error\n",
    "MSE_custom_LR_Model = mean_squared_error(Y_test, Y_pred)\n",
    "print('Linear Regression (From Scratch)', str(MSE_custom_LR_Model))"
   ]
  },
  {
   "cell_type": "markdown",
   "metadata": {},
   "source": [
    "Ok, but how does this compare with the built-in implementation?  Not bad!  Let's see!"
   ]
  },
  {
   "cell_type": "code",
   "execution_count": 63,
   "metadata": {},
   "outputs": [
    {
     "name": "stdout",
     "output_type": "stream",
     "text": [
      "Linear Regression (SKLEARN) 28.53045876597469\n"
     ]
    }
   ],
   "source": [
    "lm = LinearRegression()\n",
    "lm.fit(X_train, Y_train)\n",
    "y_pred_from_sklearn = lm.predict(X_test)\n",
    "MSE_sklearn_LR_Model = mean_squared_error(Y_test, y_pred_from_sklearn)\n",
    "print('Linear Regression (SKLEARN)', str(MSE_sklearn_LR_Model))"
   ]
  },
  {
   "cell_type": "markdown",
   "metadata": {},
   "source": [
    "So just to summarize: "
   ]
  },
  {
   "cell_type": "code",
   "execution_count": 64,
   "metadata": {},
   "outputs": [
    {
     "name": "stdout",
     "output_type": "stream",
     "text": [
      "Linear Regression (From Scratch) 28.342575757815766\n",
      "Linear Regression (SKLEARN) 28.53045876597469\n"
     ]
    }
   ],
   "source": [
    "print('Linear Regression (From Scratch)', str(MSE_custom_LR_Model))\n",
    "print('Linear Regression (SKLEARN)', str(MSE_sklearn_LR_Model))"
   ]
  },
  {
   "cell_type": "code",
   "execution_count": null,
   "metadata": {},
   "outputs": [],
   "source": []
  }
 ],
 "metadata": {
  "kernelspec": {
   "display_name": "Python 3",
   "language": "python",
   "name": "python3"
  },
  "language_info": {
   "codemirror_mode": {
    "name": "ipython",
    "version": 3
   },
   "file_extension": ".py",
   "mimetype": "text/x-python",
   "name": "python",
   "nbconvert_exporter": "python",
   "pygments_lexer": "ipython3",
   "version": "3.8.3"
  }
 },
 "nbformat": 4,
 "nbformat_minor": 4
}
