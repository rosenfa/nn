{
  "nbformat": 4,
  "nbformat_minor": 0,
  "metadata": {
    "kernelspec": {
      "display_name": "Python 3",
      "language": "python",
      "name": "python3"
    },
    "language_info": {
      "codemirror_mode": {
        "name": "ipython",
        "version": 3
      },
      "file_extension": ".py",
      "mimetype": "text/x-python",
      "name": "python",
      "nbconvert_exporter": "python",
      "pygments_lexer": "ipython3",
      "version": "3.8.3"
    },
    "colab": {
      "name": "gradient-l-2.ipynb",
      "provenance": []
    }
  },
  "cells": [
    {
      "cell_type": "markdown",
      "metadata": {
        "id": "9fhj8RHgavX-"
      },
      "source": [
        "Code taken from: https://www.kaggle.com/rakend/simple-linear-regression-using-gradient-descent with small changes"
      ]
    },
    {
      "cell_type": "code",
      "metadata": {
        "id": "myhXsURvavYD"
      },
      "source": [
        "import numpy as np\n",
        "import pandas as pd\n",
        "import sklearn\n",
        "import matplotlib.pyplot as plt\n",
        "\n",
        "# Load the data set\n",
        "from sklearn.datasets import load_boston\n",
        "boston_data = load_boston()\n",
        "#print(boston_data['DESCR'])"
      ],
      "execution_count": null,
      "outputs": []
    },
    {
      "cell_type": "markdown",
      "metadata": {
        "id": "e9IV4zXLavYE"
      },
      "source": [
        "If you print(boston_data['DESCR']) you get a description of the fields below.  RM is the number of rooms in the house and is the field we will focus on right now."
      ]
    },
    {
      "cell_type": "code",
      "metadata": {
        "id": "pzR2LO3qavYE",
        "outputId": "215b6b92-270f-4309-f7da-abee4fffd955"
      },
      "source": [
        "boston_data['feature_names']\n",
        "df = pd.DataFrame(data=boston_data['data'])\n",
        "\n",
        "df.columns = boston_data['feature_names']\n",
        "df"
      ],
      "execution_count": null,
      "outputs": [
        {
          "output_type": "execute_result",
          "data": {
            "text/html": [
              "<div>\n",
              "<style scoped>\n",
              "    .dataframe tbody tr th:only-of-type {\n",
              "        vertical-align: middle;\n",
              "    }\n",
              "\n",
              "    .dataframe tbody tr th {\n",
              "        vertical-align: top;\n",
              "    }\n",
              "\n",
              "    .dataframe thead th {\n",
              "        text-align: right;\n",
              "    }\n",
              "</style>\n",
              "<table border=\"1\" class=\"dataframe\">\n",
              "  <thead>\n",
              "    <tr style=\"text-align: right;\">\n",
              "      <th></th>\n",
              "      <th>CRIM</th>\n",
              "      <th>ZN</th>\n",
              "      <th>INDUS</th>\n",
              "      <th>CHAS</th>\n",
              "      <th>NOX</th>\n",
              "      <th>RM</th>\n",
              "      <th>AGE</th>\n",
              "      <th>DIS</th>\n",
              "      <th>RAD</th>\n",
              "      <th>TAX</th>\n",
              "      <th>PTRATIO</th>\n",
              "      <th>B</th>\n",
              "      <th>LSTAT</th>\n",
              "    </tr>\n",
              "  </thead>\n",
              "  <tbody>\n",
              "    <tr>\n",
              "      <th>0</th>\n",
              "      <td>0.00632</td>\n",
              "      <td>18.0</td>\n",
              "      <td>2.31</td>\n",
              "      <td>0.0</td>\n",
              "      <td>0.538</td>\n",
              "      <td>6.575</td>\n",
              "      <td>65.2</td>\n",
              "      <td>4.0900</td>\n",
              "      <td>1.0</td>\n",
              "      <td>296.0</td>\n",
              "      <td>15.3</td>\n",
              "      <td>396.90</td>\n",
              "      <td>4.98</td>\n",
              "    </tr>\n",
              "    <tr>\n",
              "      <th>1</th>\n",
              "      <td>0.02731</td>\n",
              "      <td>0.0</td>\n",
              "      <td>7.07</td>\n",
              "      <td>0.0</td>\n",
              "      <td>0.469</td>\n",
              "      <td>6.421</td>\n",
              "      <td>78.9</td>\n",
              "      <td>4.9671</td>\n",
              "      <td>2.0</td>\n",
              "      <td>242.0</td>\n",
              "      <td>17.8</td>\n",
              "      <td>396.90</td>\n",
              "      <td>9.14</td>\n",
              "    </tr>\n",
              "    <tr>\n",
              "      <th>2</th>\n",
              "      <td>0.02729</td>\n",
              "      <td>0.0</td>\n",
              "      <td>7.07</td>\n",
              "      <td>0.0</td>\n",
              "      <td>0.469</td>\n",
              "      <td>7.185</td>\n",
              "      <td>61.1</td>\n",
              "      <td>4.9671</td>\n",
              "      <td>2.0</td>\n",
              "      <td>242.0</td>\n",
              "      <td>17.8</td>\n",
              "      <td>392.83</td>\n",
              "      <td>4.03</td>\n",
              "    </tr>\n",
              "    <tr>\n",
              "      <th>3</th>\n",
              "      <td>0.03237</td>\n",
              "      <td>0.0</td>\n",
              "      <td>2.18</td>\n",
              "      <td>0.0</td>\n",
              "      <td>0.458</td>\n",
              "      <td>6.998</td>\n",
              "      <td>45.8</td>\n",
              "      <td>6.0622</td>\n",
              "      <td>3.0</td>\n",
              "      <td>222.0</td>\n",
              "      <td>18.7</td>\n",
              "      <td>394.63</td>\n",
              "      <td>2.94</td>\n",
              "    </tr>\n",
              "    <tr>\n",
              "      <th>4</th>\n",
              "      <td>0.06905</td>\n",
              "      <td>0.0</td>\n",
              "      <td>2.18</td>\n",
              "      <td>0.0</td>\n",
              "      <td>0.458</td>\n",
              "      <td>7.147</td>\n",
              "      <td>54.2</td>\n",
              "      <td>6.0622</td>\n",
              "      <td>3.0</td>\n",
              "      <td>222.0</td>\n",
              "      <td>18.7</td>\n",
              "      <td>396.90</td>\n",
              "      <td>5.33</td>\n",
              "    </tr>\n",
              "    <tr>\n",
              "      <th>...</th>\n",
              "      <td>...</td>\n",
              "      <td>...</td>\n",
              "      <td>...</td>\n",
              "      <td>...</td>\n",
              "      <td>...</td>\n",
              "      <td>...</td>\n",
              "      <td>...</td>\n",
              "      <td>...</td>\n",
              "      <td>...</td>\n",
              "      <td>...</td>\n",
              "      <td>...</td>\n",
              "      <td>...</td>\n",
              "      <td>...</td>\n",
              "    </tr>\n",
              "    <tr>\n",
              "      <th>501</th>\n",
              "      <td>0.06263</td>\n",
              "      <td>0.0</td>\n",
              "      <td>11.93</td>\n",
              "      <td>0.0</td>\n",
              "      <td>0.573</td>\n",
              "      <td>6.593</td>\n",
              "      <td>69.1</td>\n",
              "      <td>2.4786</td>\n",
              "      <td>1.0</td>\n",
              "      <td>273.0</td>\n",
              "      <td>21.0</td>\n",
              "      <td>391.99</td>\n",
              "      <td>9.67</td>\n",
              "    </tr>\n",
              "    <tr>\n",
              "      <th>502</th>\n",
              "      <td>0.04527</td>\n",
              "      <td>0.0</td>\n",
              "      <td>11.93</td>\n",
              "      <td>0.0</td>\n",
              "      <td>0.573</td>\n",
              "      <td>6.120</td>\n",
              "      <td>76.7</td>\n",
              "      <td>2.2875</td>\n",
              "      <td>1.0</td>\n",
              "      <td>273.0</td>\n",
              "      <td>21.0</td>\n",
              "      <td>396.90</td>\n",
              "      <td>9.08</td>\n",
              "    </tr>\n",
              "    <tr>\n",
              "      <th>503</th>\n",
              "      <td>0.06076</td>\n",
              "      <td>0.0</td>\n",
              "      <td>11.93</td>\n",
              "      <td>0.0</td>\n",
              "      <td>0.573</td>\n",
              "      <td>6.976</td>\n",
              "      <td>91.0</td>\n",
              "      <td>2.1675</td>\n",
              "      <td>1.0</td>\n",
              "      <td>273.0</td>\n",
              "      <td>21.0</td>\n",
              "      <td>396.90</td>\n",
              "      <td>5.64</td>\n",
              "    </tr>\n",
              "    <tr>\n",
              "      <th>504</th>\n",
              "      <td>0.10959</td>\n",
              "      <td>0.0</td>\n",
              "      <td>11.93</td>\n",
              "      <td>0.0</td>\n",
              "      <td>0.573</td>\n",
              "      <td>6.794</td>\n",
              "      <td>89.3</td>\n",
              "      <td>2.3889</td>\n",
              "      <td>1.0</td>\n",
              "      <td>273.0</td>\n",
              "      <td>21.0</td>\n",
              "      <td>393.45</td>\n",
              "      <td>6.48</td>\n",
              "    </tr>\n",
              "    <tr>\n",
              "      <th>505</th>\n",
              "      <td>0.04741</td>\n",
              "      <td>0.0</td>\n",
              "      <td>11.93</td>\n",
              "      <td>0.0</td>\n",
              "      <td>0.573</td>\n",
              "      <td>6.030</td>\n",
              "      <td>80.8</td>\n",
              "      <td>2.5050</td>\n",
              "      <td>1.0</td>\n",
              "      <td>273.0</td>\n",
              "      <td>21.0</td>\n",
              "      <td>396.90</td>\n",
              "      <td>7.88</td>\n",
              "    </tr>\n",
              "  </tbody>\n",
              "</table>\n",
              "<p>506 rows × 13 columns</p>\n",
              "</div>"
            ],
            "text/plain": [
              "        CRIM    ZN  INDUS  CHAS    NOX     RM   AGE     DIS  RAD    TAX  \\\n",
              "0    0.00632  18.0   2.31   0.0  0.538  6.575  65.2  4.0900  1.0  296.0   \n",
              "1    0.02731   0.0   7.07   0.0  0.469  6.421  78.9  4.9671  2.0  242.0   \n",
              "2    0.02729   0.0   7.07   0.0  0.469  7.185  61.1  4.9671  2.0  242.0   \n",
              "3    0.03237   0.0   2.18   0.0  0.458  6.998  45.8  6.0622  3.0  222.0   \n",
              "4    0.06905   0.0   2.18   0.0  0.458  7.147  54.2  6.0622  3.0  222.0   \n",
              "..       ...   ...    ...   ...    ...    ...   ...     ...  ...    ...   \n",
              "501  0.06263   0.0  11.93   0.0  0.573  6.593  69.1  2.4786  1.0  273.0   \n",
              "502  0.04527   0.0  11.93   0.0  0.573  6.120  76.7  2.2875  1.0  273.0   \n",
              "503  0.06076   0.0  11.93   0.0  0.573  6.976  91.0  2.1675  1.0  273.0   \n",
              "504  0.10959   0.0  11.93   0.0  0.573  6.794  89.3  2.3889  1.0  273.0   \n",
              "505  0.04741   0.0  11.93   0.0  0.573  6.030  80.8  2.5050  1.0  273.0   \n",
              "\n",
              "     PTRATIO       B  LSTAT  \n",
              "0       15.3  396.90   4.98  \n",
              "1       17.8  396.90   9.14  \n",
              "2       17.8  392.83   4.03  \n",
              "3       18.7  394.63   2.94  \n",
              "4       18.7  396.90   5.33  \n",
              "..       ...     ...    ...  \n",
              "501     21.0  391.99   9.67  \n",
              "502     21.0  396.90   9.08  \n",
              "503     21.0  396.90   5.64  \n",
              "504     21.0  393.45   6.48  \n",
              "505     21.0  396.90   7.88  \n",
              "\n",
              "[506 rows x 13 columns]"
            ]
          },
          "metadata": {
            "tags": []
          },
          "execution_count": 98
        }
      ]
    },
    {
      "cell_type": "markdown",
      "metadata": {
        "id": "wDOwMpoJavYF"
      },
      "source": [
        "Price is the cost in thousands of dollars."
      ]
    },
    {
      "cell_type": "code",
      "metadata": {
        "id": "J88ZiOHmavYF",
        "outputId": "969fcf6a-253f-4a3b-e282-a3f09e3bf4c5"
      },
      "source": [
        "df['Price'] =  boston_data['target']\n",
        "df"
      ],
      "execution_count": null,
      "outputs": [
        {
          "output_type": "execute_result",
          "data": {
            "text/html": [
              "<div>\n",
              "<style scoped>\n",
              "    .dataframe tbody tr th:only-of-type {\n",
              "        vertical-align: middle;\n",
              "    }\n",
              "\n",
              "    .dataframe tbody tr th {\n",
              "        vertical-align: top;\n",
              "    }\n",
              "\n",
              "    .dataframe thead th {\n",
              "        text-align: right;\n",
              "    }\n",
              "</style>\n",
              "<table border=\"1\" class=\"dataframe\">\n",
              "  <thead>\n",
              "    <tr style=\"text-align: right;\">\n",
              "      <th></th>\n",
              "      <th>CRIM</th>\n",
              "      <th>ZN</th>\n",
              "      <th>INDUS</th>\n",
              "      <th>CHAS</th>\n",
              "      <th>NOX</th>\n",
              "      <th>RM</th>\n",
              "      <th>AGE</th>\n",
              "      <th>DIS</th>\n",
              "      <th>RAD</th>\n",
              "      <th>TAX</th>\n",
              "      <th>PTRATIO</th>\n",
              "      <th>B</th>\n",
              "      <th>LSTAT</th>\n",
              "      <th>Price</th>\n",
              "    </tr>\n",
              "  </thead>\n",
              "  <tbody>\n",
              "    <tr>\n",
              "      <th>0</th>\n",
              "      <td>0.00632</td>\n",
              "      <td>18.0</td>\n",
              "      <td>2.31</td>\n",
              "      <td>0.0</td>\n",
              "      <td>0.538</td>\n",
              "      <td>6.575</td>\n",
              "      <td>65.2</td>\n",
              "      <td>4.0900</td>\n",
              "      <td>1.0</td>\n",
              "      <td>296.0</td>\n",
              "      <td>15.3</td>\n",
              "      <td>396.90</td>\n",
              "      <td>4.98</td>\n",
              "      <td>24.0</td>\n",
              "    </tr>\n",
              "    <tr>\n",
              "      <th>1</th>\n",
              "      <td>0.02731</td>\n",
              "      <td>0.0</td>\n",
              "      <td>7.07</td>\n",
              "      <td>0.0</td>\n",
              "      <td>0.469</td>\n",
              "      <td>6.421</td>\n",
              "      <td>78.9</td>\n",
              "      <td>4.9671</td>\n",
              "      <td>2.0</td>\n",
              "      <td>242.0</td>\n",
              "      <td>17.8</td>\n",
              "      <td>396.90</td>\n",
              "      <td>9.14</td>\n",
              "      <td>21.6</td>\n",
              "    </tr>\n",
              "    <tr>\n",
              "      <th>2</th>\n",
              "      <td>0.02729</td>\n",
              "      <td>0.0</td>\n",
              "      <td>7.07</td>\n",
              "      <td>0.0</td>\n",
              "      <td>0.469</td>\n",
              "      <td>7.185</td>\n",
              "      <td>61.1</td>\n",
              "      <td>4.9671</td>\n",
              "      <td>2.0</td>\n",
              "      <td>242.0</td>\n",
              "      <td>17.8</td>\n",
              "      <td>392.83</td>\n",
              "      <td>4.03</td>\n",
              "      <td>34.7</td>\n",
              "    </tr>\n",
              "    <tr>\n",
              "      <th>3</th>\n",
              "      <td>0.03237</td>\n",
              "      <td>0.0</td>\n",
              "      <td>2.18</td>\n",
              "      <td>0.0</td>\n",
              "      <td>0.458</td>\n",
              "      <td>6.998</td>\n",
              "      <td>45.8</td>\n",
              "      <td>6.0622</td>\n",
              "      <td>3.0</td>\n",
              "      <td>222.0</td>\n",
              "      <td>18.7</td>\n",
              "      <td>394.63</td>\n",
              "      <td>2.94</td>\n",
              "      <td>33.4</td>\n",
              "    </tr>\n",
              "    <tr>\n",
              "      <th>4</th>\n",
              "      <td>0.06905</td>\n",
              "      <td>0.0</td>\n",
              "      <td>2.18</td>\n",
              "      <td>0.0</td>\n",
              "      <td>0.458</td>\n",
              "      <td>7.147</td>\n",
              "      <td>54.2</td>\n",
              "      <td>6.0622</td>\n",
              "      <td>3.0</td>\n",
              "      <td>222.0</td>\n",
              "      <td>18.7</td>\n",
              "      <td>396.90</td>\n",
              "      <td>5.33</td>\n",
              "      <td>36.2</td>\n",
              "    </tr>\n",
              "    <tr>\n",
              "      <th>...</th>\n",
              "      <td>...</td>\n",
              "      <td>...</td>\n",
              "      <td>...</td>\n",
              "      <td>...</td>\n",
              "      <td>...</td>\n",
              "      <td>...</td>\n",
              "      <td>...</td>\n",
              "      <td>...</td>\n",
              "      <td>...</td>\n",
              "      <td>...</td>\n",
              "      <td>...</td>\n",
              "      <td>...</td>\n",
              "      <td>...</td>\n",
              "      <td>...</td>\n",
              "    </tr>\n",
              "    <tr>\n",
              "      <th>501</th>\n",
              "      <td>0.06263</td>\n",
              "      <td>0.0</td>\n",
              "      <td>11.93</td>\n",
              "      <td>0.0</td>\n",
              "      <td>0.573</td>\n",
              "      <td>6.593</td>\n",
              "      <td>69.1</td>\n",
              "      <td>2.4786</td>\n",
              "      <td>1.0</td>\n",
              "      <td>273.0</td>\n",
              "      <td>21.0</td>\n",
              "      <td>391.99</td>\n",
              "      <td>9.67</td>\n",
              "      <td>22.4</td>\n",
              "    </tr>\n",
              "    <tr>\n",
              "      <th>502</th>\n",
              "      <td>0.04527</td>\n",
              "      <td>0.0</td>\n",
              "      <td>11.93</td>\n",
              "      <td>0.0</td>\n",
              "      <td>0.573</td>\n",
              "      <td>6.120</td>\n",
              "      <td>76.7</td>\n",
              "      <td>2.2875</td>\n",
              "      <td>1.0</td>\n",
              "      <td>273.0</td>\n",
              "      <td>21.0</td>\n",
              "      <td>396.90</td>\n",
              "      <td>9.08</td>\n",
              "      <td>20.6</td>\n",
              "    </tr>\n",
              "    <tr>\n",
              "      <th>503</th>\n",
              "      <td>0.06076</td>\n",
              "      <td>0.0</td>\n",
              "      <td>11.93</td>\n",
              "      <td>0.0</td>\n",
              "      <td>0.573</td>\n",
              "      <td>6.976</td>\n",
              "      <td>91.0</td>\n",
              "      <td>2.1675</td>\n",
              "      <td>1.0</td>\n",
              "      <td>273.0</td>\n",
              "      <td>21.0</td>\n",
              "      <td>396.90</td>\n",
              "      <td>5.64</td>\n",
              "      <td>23.9</td>\n",
              "    </tr>\n",
              "    <tr>\n",
              "      <th>504</th>\n",
              "      <td>0.10959</td>\n",
              "      <td>0.0</td>\n",
              "      <td>11.93</td>\n",
              "      <td>0.0</td>\n",
              "      <td>0.573</td>\n",
              "      <td>6.794</td>\n",
              "      <td>89.3</td>\n",
              "      <td>2.3889</td>\n",
              "      <td>1.0</td>\n",
              "      <td>273.0</td>\n",
              "      <td>21.0</td>\n",
              "      <td>393.45</td>\n",
              "      <td>6.48</td>\n",
              "      <td>22.0</td>\n",
              "    </tr>\n",
              "    <tr>\n",
              "      <th>505</th>\n",
              "      <td>0.04741</td>\n",
              "      <td>0.0</td>\n",
              "      <td>11.93</td>\n",
              "      <td>0.0</td>\n",
              "      <td>0.573</td>\n",
              "      <td>6.030</td>\n",
              "      <td>80.8</td>\n",
              "      <td>2.5050</td>\n",
              "      <td>1.0</td>\n",
              "      <td>273.0</td>\n",
              "      <td>21.0</td>\n",
              "      <td>396.90</td>\n",
              "      <td>7.88</td>\n",
              "      <td>11.9</td>\n",
              "    </tr>\n",
              "  </tbody>\n",
              "</table>\n",
              "<p>506 rows × 14 columns</p>\n",
              "</div>"
            ],
            "text/plain": [
              "        CRIM    ZN  INDUS  CHAS    NOX     RM   AGE     DIS  RAD    TAX  \\\n",
              "0    0.00632  18.0   2.31   0.0  0.538  6.575  65.2  4.0900  1.0  296.0   \n",
              "1    0.02731   0.0   7.07   0.0  0.469  6.421  78.9  4.9671  2.0  242.0   \n",
              "2    0.02729   0.0   7.07   0.0  0.469  7.185  61.1  4.9671  2.0  242.0   \n",
              "3    0.03237   0.0   2.18   0.0  0.458  6.998  45.8  6.0622  3.0  222.0   \n",
              "4    0.06905   0.0   2.18   0.0  0.458  7.147  54.2  6.0622  3.0  222.0   \n",
              "..       ...   ...    ...   ...    ...    ...   ...     ...  ...    ...   \n",
              "501  0.06263   0.0  11.93   0.0  0.573  6.593  69.1  2.4786  1.0  273.0   \n",
              "502  0.04527   0.0  11.93   0.0  0.573  6.120  76.7  2.2875  1.0  273.0   \n",
              "503  0.06076   0.0  11.93   0.0  0.573  6.976  91.0  2.1675  1.0  273.0   \n",
              "504  0.10959   0.0  11.93   0.0  0.573  6.794  89.3  2.3889  1.0  273.0   \n",
              "505  0.04741   0.0  11.93   0.0  0.573  6.030  80.8  2.5050  1.0  273.0   \n",
              "\n",
              "     PTRATIO       B  LSTAT  Price  \n",
              "0       15.3  396.90   4.98   24.0  \n",
              "1       17.8  396.90   9.14   21.6  \n",
              "2       17.8  392.83   4.03   34.7  \n",
              "3       18.7  394.63   2.94   33.4  \n",
              "4       18.7  396.90   5.33   36.2  \n",
              "..       ...     ...    ...    ...  \n",
              "501     21.0  391.99   9.67   22.4  \n",
              "502     21.0  396.90   9.08   20.6  \n",
              "503     21.0  396.90   5.64   23.9  \n",
              "504     21.0  393.45   6.48   22.0  \n",
              "505     21.0  396.90   7.88   11.9  \n",
              "\n",
              "[506 rows x 14 columns]"
            ]
          },
          "metadata": {
            "tags": []
          },
          "execution_count": 99
        }
      ]
    },
    {
      "cell_type": "markdown",
      "metadata": {
        "id": "kTgTofEFavYG"
      },
      "source": [
        "This is the reason we focus on RM. It is the highest positively correlated feature.  LSTAT actually is more correlated but negatively. (LSTAT is the social status of the people living in the houses.)"
      ]
    },
    {
      "cell_type": "code",
      "metadata": {
        "id": "O2xMxk9oavYG",
        "outputId": "272eca4a-a7d2-48ee-fa91-a0e6b54e866e"
      },
      "source": [
        "corr = df.corr()\n",
        "corr['Price'].sort_values(ascending=False)"
      ],
      "execution_count": null,
      "outputs": [
        {
          "output_type": "execute_result",
          "data": {
            "text/plain": [
              "Price      1.000000\n",
              "RM         0.695360\n",
              "ZN         0.360445\n",
              "B          0.333461\n",
              "DIS        0.249929\n",
              "CHAS       0.175260\n",
              "AGE       -0.376955\n",
              "RAD       -0.381626\n",
              "CRIM      -0.388305\n",
              "NOX       -0.427321\n",
              "TAX       -0.468536\n",
              "INDUS     -0.483725\n",
              "PTRATIO   -0.507787\n",
              "LSTAT     -0.737663\n",
              "Name: Price, dtype: float64"
            ]
          },
          "metadata": {
            "tags": []
          },
          "execution_count": 100
        }
      ]
    },
    {
      "cell_type": "markdown",
      "metadata": {
        "id": "kmZ5W2paavYG"
      },
      "source": [
        "This code does two things. First, it standardizes the values.  Also, it plots them after the standardization. "
      ]
    },
    {
      "cell_type": "code",
      "metadata": {
        "id": "ndirC-ewavYG",
        "outputId": "9dc9da03-229b-4106-fa1d-ec33f1dd5faf"
      },
      "source": [
        "x = df['RM']\n",
        "y = df['Price']\n",
        "x = (x - x.mean())/x.std()\n",
        "y = (y - y.mean())/y.std()\n",
        "plt.scatter(x,y)\n",
        "plt.xlabel('Number of rooms per house', size = 20)\n",
        "plt.ylabel('House Price', size = 20)\n",
        "plt.show()\n",
        "#x"
      ],
      "execution_count": null,
      "outputs": [
        {
          "output_type": "display_data",
          "data": {
            "image/png": "[encoded data removed]",
            "text/plain": [
              "<Figure size 432x288 with 1 Axes>"
            ]
          },
          "metadata": {
            "tags": [],
            "needs_background": "light"
          }
        }
      ]
    },
    {
      "cell_type": "code",
      "metadata": {
        "id": "2MGgavvPavYH"
      },
      "source": [
        "x = np.c_[np.ones(x.shape[0]),x] #adds ones for the weights\n",
        "# Parameters required for Gradient Descent\n",
        "alpha = 0.01   #learning rate\n",
        "m = y.size  #no. of samples\n",
        "np.random.seed(10)  \n",
        "theta = np.random.rand(2)  #initializing theta with some random values for slope and b\n",
        "#x"
      ],
      "execution_count": null,
      "outputs": []
    },
    {
      "cell_type": "markdown",
      "metadata": {
        "id": "uxnHhmFeavYH"
      },
      "source": [
        "Now the fun starts in batch.  Note that we are using MSE -- 1/(2*m) but the error is simply prediction - y.  Also, as we do things in Numpy the batch for the whole matrix is simply np.dot(error.T, error)."
      ]
    },
    {
      "cell_type": "code",
      "metadata": {
        "id": "5k3XEEXpavYH"
      },
      "source": [
        "def gradient_descent(x, y, m, theta,  alpha):\n",
        "    cost_list = []   #to record all cost values to this list\n",
        "    theta_list = []  #to record all theta_0 and theta_1 values to this list \n",
        "    prediction_list = []\n",
        "    run = True\n",
        "    cost_list.append(1e10)    #we append some large value to the cost list\n",
        "    i=0\n",
        "    while run:\n",
        "        prediction = np.dot(x, theta)   #predicted y values theta_0*x0+theta_1*x1\n",
        "        prediction_list.append(prediction)\n",
        "        error = prediction - y          \n",
        "        cost = 1/(2*m) * np.dot(error.T, error)   #  (1/2m)*sum[(error)^2]\n",
        "        cost_list.append(cost)\n",
        "        theta = theta - (alpha * (1/m) * np.dot(x.T, error))   # alpha * (1/m) * sum[error*x]\n",
        "        theta_list.append(theta)\n",
        "        if cost_list[i]-cost_list[i+1] < 1e-7:   #checking if the change in cost function is less than 10^(-9)\n",
        "            run = False\n",
        "        \n",
        "        i+=1\n",
        "    cost_list.pop(0)   # Remove the large number we added in the begining \n",
        "    return prediction_list, cost_list, theta_list\n",
        "        "
      ],
      "execution_count": null,
      "outputs": []
    },
    {
      "cell_type": "markdown",
      "metadata": {
        "id": "8DoymPORavYH"
      },
      "source": [
        "This might take a second, but now output the results!"
      ]
    },
    {
      "cell_type": "code",
      "metadata": {
        "id": "mvxYPyY6avYH",
        "outputId": "bc7c2aa1-016d-4cf5-ed71-86ca5d3b8a62"
      },
      "source": [
        "prediction_list, cost_list, theta_list = gradient_descent(x, y, m, theta, alpha)\n",
        "theta = theta_list[-1]\n",
        "print(\"Values of theta are {:2f} and {:2f}\".format(theta[0], theta[1]))"
      ],
      "execution_count": null,
      "outputs": [
        {
          "output_type": "stream",
          "text": [
            "Values of theta are 0.002314 and 0.693313\n"
          ],
          "name": "stdout"
        }
      ]
    },
    {
      "cell_type": "markdown",
      "metadata": {
        "id": "1V1Kgme7avYI"
      },
      "source": [
        "Visualizations of the slope convergence"
      ]
    },
    {
      "cell_type": "code",
      "metadata": {
        "id": "8xumcATGavYI",
        "outputId": "e3dc2cc0-3086-4941-d8a2-137b458b8042"
      },
      "source": [
        "plt.title('Cost Function J', size = 30)\n",
        "plt.xlabel('No. of iterations', size=20)\n",
        "plt.ylabel('Cost', size=20)\n",
        "plt.plot(cost_list)\n",
        "plt.show()"
      ],
      "execution_count": null,
      "outputs": [
        {
          "output_type": "display_data",
          "data": {
            "image/png": "[encoded data removed]",
            "text/plain": [
              "<Figure size 432x288 with 1 Axes>"
            ]
          },
          "metadata": {
            "tags": [],
            "needs_background": "light"
          }
        }
      ]
    },
    {
      "cell_type": "markdown",
      "metadata": {
        "id": "QHOzAgjoavYI"
      },
      "source": [
        "Visualizations of the Impact of Values for Alpha"
      ]
    },
    {
      "cell_type": "markdown",
      "metadata": {
        "id": "KtwwUJDWavYI"
      },
      "source": [
        "![alphas.png](data:image/png;base64,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)"
      ]
    }
  ]
}