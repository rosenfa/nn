{
  "nbformat": 4,
  "nbformat_minor": 0,
  "metadata": {
    "colab": {
      "name": "Log_Reg_From_Scratch_Iris.ipynb",
      "provenance": [],
      "include_colab_link": true
    },
    "kernelspec": {
      "display_name": "Python 3",
      "language": "python",
      "name": "python3"
    },
    "language_info": {
      "codemirror_mode": {
        "name": "ipython",
        "version": 3
      },
      "file_extension": ".py",
      "mimetype": "text/x-python",
      "name": "python",
      "nbconvert_exporter": "python",
      "pygments_lexer": "ipython3",
      "version": "3.8.3"
    }
  },
  "cells": [
    {
      "cell_type": "markdown",
      "metadata": {
        "id": "view-in-github",
        "colab_type": "text"
      },
      "source": [
        "<a href=\"https://colab.research.google.com/github/rosenfa/nn/blob/master/Log_Reg_From_Scratch_Iris.ipynb\" target=\"_parent\"><img src=\"https://colab.research.google.com/assets/colab-badge.svg\" alt=\"Open In Colab\"/></a>"
      ]
    },
    {
      "cell_type": "code",
      "metadata": {
        "id": "h-L_E2xTh_Ii"
      },
      "source": [
        "import numpy as np\n",
        "import pandas as pd\n",
        "import matplotlib.pyplot as plt\n",
        "from sklearn.model_selection import train_test_split "
      ],
      "execution_count": 4,
      "outputs": []
    },
    {
      "cell_type": "markdown",
      "metadata": {
        "id": "vvypCpkJiAb5"
      },
      "source": [
        "Using the Iris dataset to perform logistic regression from scratch in python. We already saved a nice file on my Github."
      ]
    },
    {
      "cell_type": "code",
      "metadata": {
        "id": "efRoaifBiBmq"
      },
      "source": [
        "url = \"https://github.com/rosenfa/nn/blob/master/iris2.csv?raw=true\"\n",
        "df_iris=pd.read_csv(url,  header=0, error_bad_lines=False) "
      ],
      "execution_count": 5,
      "outputs": []
    },
    {
      "cell_type": "code",
      "metadata": {
        "colab": {
          "base_uri": "https://localhost:8080/",
          "height": 414
        },
        "id": "4CDhlA58iayd",
        "outputId": "22f08894-2dcf-487a-e61a-a10f05174c59"
      },
      "source": [
        "df_iris"
      ],
      "execution_count": 6,
      "outputs": [
        {
          "output_type": "execute_result",
          "data": {
            "text/html": [
              "<div>\n",
              "<style scoped>\n",
              "    .dataframe tbody tr th:only-of-type {\n",
              "        vertical-align: middle;\n",
              "    }\n",
              "\n",
              "    .dataframe tbody tr th {\n",
              "        vertical-align: top;\n",
              "    }\n",
              "\n",
              "    .dataframe thead th {\n",
              "        text-align: right;\n",
              "    }\n",
              "</style>\n",
              "<table border=\"1\" class=\"dataframe\">\n",
              "  <thead>\n",
              "    <tr style=\"text-align: right;\">\n",
              "      <th></th>\n",
              "      <th>sepal.length</th>\n",
              "      <th>sepal.width</th>\n",
              "      <th>petal.length</th>\n",
              "      <th>petal.width</th>\n",
              "      <th>Species</th>\n",
              "    </tr>\n",
              "  </thead>\n",
              "  <tbody>\n",
              "    <tr>\n",
              "      <th>0</th>\n",
              "      <td>5.1</td>\n",
              "      <td>3.5</td>\n",
              "      <td>1.4</td>\n",
              "      <td>0.2</td>\n",
              "      <td>1</td>\n",
              "    </tr>\n",
              "    <tr>\n",
              "      <th>1</th>\n",
              "      <td>4.9</td>\n",
              "      <td>3.0</td>\n",
              "      <td>1.4</td>\n",
              "      <td>0.2</td>\n",
              "      <td>1</td>\n",
              "    </tr>\n",
              "    <tr>\n",
              "      <th>2</th>\n",
              "      <td>4.7</td>\n",
              "      <td>3.2</td>\n",
              "      <td>1.3</td>\n",
              "      <td>0.2</td>\n",
              "      <td>1</td>\n",
              "    </tr>\n",
              "    <tr>\n",
              "      <th>3</th>\n",
              "      <td>4.6</td>\n",
              "      <td>3.1</td>\n",
              "      <td>1.5</td>\n",
              "      <td>0.2</td>\n",
              "      <td>1</td>\n",
              "    </tr>\n",
              "    <tr>\n",
              "      <th>4</th>\n",
              "      <td>5.0</td>\n",
              "      <td>3.6</td>\n",
              "      <td>1.4</td>\n",
              "      <td>0.2</td>\n",
              "      <td>1</td>\n",
              "    </tr>\n",
              "    <tr>\n",
              "      <th>...</th>\n",
              "      <td>...</td>\n",
              "      <td>...</td>\n",
              "      <td>...</td>\n",
              "      <td>...</td>\n",
              "      <td>...</td>\n",
              "    </tr>\n",
              "    <tr>\n",
              "      <th>95</th>\n",
              "      <td>5.7</td>\n",
              "      <td>3.0</td>\n",
              "      <td>4.2</td>\n",
              "      <td>1.2</td>\n",
              "      <td>0</td>\n",
              "    </tr>\n",
              "    <tr>\n",
              "      <th>96</th>\n",
              "      <td>5.7</td>\n",
              "      <td>2.9</td>\n",
              "      <td>4.2</td>\n",
              "      <td>1.3</td>\n",
              "      <td>0</td>\n",
              "    </tr>\n",
              "    <tr>\n",
              "      <th>97</th>\n",
              "      <td>6.2</td>\n",
              "      <td>2.9</td>\n",
              "      <td>4.3</td>\n",
              "      <td>1.3</td>\n",
              "      <td>0</td>\n",
              "    </tr>\n",
              "    <tr>\n",
              "      <th>98</th>\n",
              "      <td>5.1</td>\n",
              "      <td>2.5</td>\n",
              "      <td>3.0</td>\n",
              "      <td>1.1</td>\n",
              "      <td>0</td>\n",
              "    </tr>\n",
              "    <tr>\n",
              "      <th>99</th>\n",
              "      <td>5.7</td>\n",
              "      <td>2.8</td>\n",
              "      <td>4.1</td>\n",
              "      <td>1.3</td>\n",
              "      <td>0</td>\n",
              "    </tr>\n",
              "  </tbody>\n",
              "</table>\n",
              "<p>100 rows × 5 columns</p>\n",
              "</div>"
            ],
            "text/plain": [
              "    sepal.length  sepal.width  petal.length  petal.width  Species\n",
              "0            5.1          3.5           1.4          0.2        1\n",
              "1            4.9          3.0           1.4          0.2        1\n",
              "2            4.7          3.2           1.3          0.2        1\n",
              "3            4.6          3.1           1.5          0.2        1\n",
              "4            5.0          3.6           1.4          0.2        1\n",
              "..           ...          ...           ...          ...      ...\n",
              "95           5.7          3.0           4.2          1.2        0\n",
              "96           5.7          2.9           4.2          1.3        0\n",
              "97           6.2          2.9           4.3          1.3        0\n",
              "98           5.1          2.5           3.0          1.1        0\n",
              "99           5.7          2.8           4.1          1.3        0\n",
              "\n",
              "[100 rows x 5 columns]"
            ]
          },
          "metadata": {
            "tags": []
          },
          "execution_count": 6
        }
      ]
    },
    {
      "cell_type": "markdown",
      "metadata": {
        "id": "NDpSWfzZxSNU"
      },
      "source": [
        "Adding a column of 1's to the X matrix for the bias terms."
      ]
    },
    {
      "cell_type": "code",
      "metadata": {
        "id": "ydXsMdqqicOi",
        "colab": {
          "base_uri": "https://localhost:8080/"
        },
        "outputId": "32a88006-8a0e-4cac-9c59-fa5bc6a21383"
      },
      "source": [
        "X = np.asarray(df_iris.drop('Species',1))\n",
        "X = np.append(np.ones([len(X),1]),X,1)\n",
        "y = np.asarray(df_iris['Species'])\n",
        "X[0]\n",
        "y[0]"
      ],
      "execution_count": 12,
      "outputs": [
        {
          "output_type": "execute_result",
          "data": {
            "text/plain": [
              "1"
            ]
          },
          "metadata": {
            "tags": []
          },
          "execution_count": 12
        }
      ]
    },
    {
      "cell_type": "code",
      "metadata": {
        "id": "CkuQEheK1Oza"
      },
      "source": [
        "Now make the theta vector. Note that X.shape returns two values and the 1 value is the number of columns (attributes + b)"
      ],
      "execution_count": null,
      "outputs": []
    },
    {
      "cell_type": "code",
      "metadata": {
        "colab": {
          "base_uri": "https://localhost:8080/"
        },
        "id": "Z9zbBHOwlzqE",
        "outputId": "4b3b3059-0115-4126-b8b5-0f0bc250b701"
      },
      "source": [
        "theta = np.zeros(X.shape[1])\n",
        "theta"
      ],
      "execution_count": 13,
      "outputs": [
        {
          "output_type": "execute_result",
          "data": {
            "text/plain": [
              "array([0., 0., 0., 0., 0.])"
            ]
          },
          "metadata": {
            "tags": []
          },
          "execution_count": 13
        }
      ]
    },
    {
      "cell_type": "markdown",
      "metadata": {
        "id": "jPhbzyKYjy1q"
      },
      "source": [
        "Here we define our activation function; the sigmoid function \n",
        "\n",
        "$h_{\\theta}(x) = g(\\theta^{T}x)$\n",
        "\n",
        "$z = \\theta^{T}x$\n",
        "\n",
        "$g(z) = \\frac{1}{1+e^{(-z)}}$\n",
        "\n",
        "\n",
        "\n",
        "\n",
        "X := data set\n",
        "\n",
        "$\\theta$ := vector of weights\n",
        "\n",
        "\n",
        "\n",
        "h = hypothesis"
      ]
    },
    {
      "cell_type": "code",
      "metadata": {
        "id": "j3evHHAPiijJ"
      },
      "source": [
        "def sigmoid(z):\n",
        "    return 1 / (1 + np.exp(-z))\n",
        "\n",
        "z = np.dot(X, theta)\n",
        "h = sigmoid(z)"
      ],
      "execution_count": 14,
      "outputs": []
    },
    {
      "cell_type": "markdown",
      "metadata": {
        "id": "f6LdHERQoViq"
      },
      "source": [
        "Next we will define our loss (Cost) function:\n",
        "\n",
        "\n",
        "$J(\\theta) = \\frac{1}{m} * (-y * log(h) - (1-y)log(1-h)) $\n",
        "\n",
        "---\n",
        "\n",
        "\n",
        "\n",
        "Note: when y = 0 the first half of the equation is 0,  \n",
        "and when y = 1, the second half of the equation is equal to 0."
      ]
    },
    {
      "cell_type": "code",
      "metadata": {
        "id": "KBjinZrqoX34"
      },
      "source": [
        "def loss(h, y):\n",
        "    return (-y * np.log(h) - (1 - y) * np.log(1 - h)).mean()"
      ],
      "execution_count": 15,
      "outputs": []
    },
    {
      "cell_type": "markdown",
      "metadata": {
        "id": "aGxx8MgvLl2b"
      },
      "source": [
        "$\\frac{\\delta J(\\theta)}{\\delta\\theta_{j}} = \\frac{1}{m} * X^{T}$"
      ]
    },
    {
      "cell_type": "code",
      "metadata": {
        "id": "0sl5PTEFNDmy"
      },
      "source": [
        "gradient = np.dot(X.T, (h - y)) / y.shape[0]"
      ],
      "execution_count": 17,
      "outputs": []
    },
    {
      "cell_type": "markdown",
      "metadata": {
        "id": "urSsYuj8YO_I"
      },
      "source": [
        "We then subtract our values for theta by our chose learning rate * the gradient and loop for gradient descent."
      ]
    },
    {
      "cell_type": "code",
      "metadata": {
        "id": "eciq4m8KYnpA"
      },
      "source": [
        "def predict_probs(X, theta):\n",
        "    return sigmoid(np.dot(X, theta))\n",
        "\n",
        "\n",
        "def predict(X, theta, threshold=0.5):\n",
        "    if predict_probs(X, theta) >= threshold:\n",
        "        return 1\n",
        "    return 0\n",
        "    #return predict_probs(X, theta) >= threshold"
      ],
      "execution_count": 18,
      "outputs": []
    },
    {
      "cell_type": "code",
      "metadata": {
        "id": "j4lKldwxb9z2"
      },
      "source": [
        "X_train, X_test, y_train, y_test = train_test_split(X, y, test_size=0.33, random_state=0)"
      ],
      "execution_count": 19,
      "outputs": []
    },
    {
      "cell_type": "code",
      "metadata": {
        "colab": {
          "base_uri": "https://localhost:8080/"
        },
        "id": "bs5x1cJEawsy",
        "outputId": "5d63ec95-1808-40ac-eded-e16b1ed18806"
      },
      "source": [
        "X_train.shape"
      ],
      "execution_count": 21,
      "outputs": [
        {
          "output_type": "execute_result",
          "data": {
            "text/plain": [
              "(67, 5)"
            ]
          },
          "metadata": {
            "tags": []
          },
          "execution_count": 21
        }
      ]
    },
    {
      "cell_type": "code",
      "metadata": {
        "id": "U5DZUxWIYpyX"
      },
      "source": [
        "#fit the data \n",
        "cost_array = [] # keeping a list of the cost at each iteration to make sure it is constantly decreasing\n",
        "iterations = 1000 \n",
        "lr = 0.01\n",
        "\n",
        "for i in range(iterations):\n",
        "    z = np.dot(X_train, theta)\n",
        "    a = sigmoid(z)\n",
        "    gradient = np.dot(X_train.T, (a - y_train)) / y_train.shape[0]\n",
        "\n",
        "    theta -= lr * gradient\n",
        "    cost = loss(a, y_train)\n",
        "    cost_array.append(cost)\n",
        "\n"
      ],
      "execution_count": 20,
      "outputs": []
    },
    {
      "cell_type": "markdown",
      "metadata": {
        "id": "mX9hCqpJq9tU"
      },
      "source": [
        "Interesting to note that depending on what my intial values for theta the final values ended up being very different even though each time they all performed correctly."
      ]
    },
    {
      "cell_type": "code",
      "metadata": {
        "colab": {
          "base_uri": "https://localhost:8080/",
          "height": 282
        },
        "id": "_jbffssLaxaU",
        "outputId": "f7a2dd4e-c75d-4128-cc95-2a0209053e23"
      },
      "source": [
        "plt.plot(cost_array)\n",
        "#plotting the cost against the number of iterations to make sure our model is improving the whole time"
      ],
      "execution_count": 22,
      "outputs": [
        {
          "output_type": "execute_result",
          "data": {
            "text/plain": [
              "[<matplotlib.lines.Line2D at 0x7f833d2526d0>]"
            ]
          },
          "metadata": {
            "tags": []
          },
          "execution_count": 22
        },
        {
          "output_type": "display_data",
          "data": {
            "image/png": "[encoded data removed]",
            "text/plain": [
              "<Figure size 432x288 with 1 Axes>"
            ]
          },
          "metadata": {
            "tags": [],
            "needs_background": "light"
          }
        }
      ]
    },
    {
      "cell_type": "code",
      "metadata": {
        "colab": {
          "base_uri": "https://localhost:8080/"
        },
        "id": "jfSxHihu4NoZ",
        "outputId": "e1b4277e-82d7-4224-ce1b-3a68fbb67f30"
      },
      "source": [
        "cost"
      ],
      "execution_count": 23,
      "outputs": [
        {
          "output_type": "execute_result",
          "data": {
            "text/plain": [
              "0.06726916069195697"
            ]
          },
          "metadata": {
            "tags": []
          },
          "execution_count": 23
        }
      ]
    },
    {
      "cell_type": "markdown",
      "metadata": {
        "id": "EC9CCnZrpOMd"
      },
      "source": [
        "Now We will test our model on our test data."
      ]
    },
    {
      "cell_type": "code",
      "metadata": {
        "colab": {
          "base_uri": "https://localhost:8080/"
        },
        "id": "Vlbh2DR5bA64",
        "outputId": "f2267afd-d247-4f83-89c4-05bfca6125dc"
      },
      "source": [
        "incorrect = 0\n",
        "\n",
        "for x,y in zip(X_test, y_test):\n",
        "    p = predict(x, theta)\n",
        "    if p != y:\n",
        "        incorrect += 1\n",
        "\n",
        "n = len(y_test)\n",
        "accuracy = (n-incorrect)/n\n",
        "print(\"accuracy: {}\".format(accuracy))\n"
      ],
      "execution_count": 24,
      "outputs": [
        {
          "output_type": "stream",
          "text": [
            "accuracy: 1.0\n"
          ],
          "name": "stdout"
        }
      ]
    },
    {
      "cell_type": "markdown",
      "metadata": {
        "id": "aNTwCd-g0IqB"
      },
      "source": [
        "It looks like our model is performing accurately! "
      ]
    },
    {
      "cell_type": "markdown",
      "metadata": {
        "id": "S_4ckvLt0WZx"
      },
      "source": [
        "Now we will use the sklearn built in functions to compare our attained model"
      ]
    },
    {
      "cell_type": "code",
      "metadata": {
        "id": "jQHZRVKZ0tV5",
        "colab": {
          "base_uri": "https://localhost:8080/"
        },
        "outputId": "578c3f02-efdd-4b31-d866-c912c3b46c4f"
      },
      "source": [
        "from sklearn.linear_model import LogisticRegression\r\n",
        "sk_model = LogisticRegression()     \r\n",
        "sk_model.fit( X_train, y_train ) "
      ],
      "execution_count": 25,
      "outputs": [
        {
          "output_type": "execute_result",
          "data": {
            "text/plain": [
              "LogisticRegression(C=1.0, class_weight=None, dual=False, fit_intercept=True,\n",
              "                   intercept_scaling=1, l1_ratio=None, max_iter=100,\n",
              "                   multi_class='auto', n_jobs=None, penalty='l2',\n",
              "                   random_state=None, solver='lbfgs', tol=0.0001, verbose=0,\n",
              "                   warm_start=False)"
            ]
          },
          "metadata": {
            "tags": []
          },
          "execution_count": 25
        }
      ]
    },
    {
      "cell_type": "code",
      "metadata": {
        "id": "uPZV0Q1Z4e9k",
        "colab": {
          "base_uri": "https://localhost:8080/"
        },
        "outputId": "5b865145-651b-4cbb-9e02-88bad7498ff7"
      },
      "source": [
        "accuracy = sk_model.score(X_test, y_test)\r\n",
        "print(\"accuracy = \", accuracy * 100, \"%\")"
      ],
      "execution_count": 26,
      "outputs": [
        {
          "output_type": "stream",
          "text": [
            "accuracy =  100.0 %\n"
          ],
          "name": "stdout"
        }
      ]
    },
    {
      "cell_type": "markdown",
      "metadata": {
        "id": "jOfnRJRl2RPa"
      },
      "source": [
        "Note that while the results are the same, the weights weren't!"
      ]
    },
    {
      "cell_type": "code",
      "metadata": {
        "colab": {
          "base_uri": "https://localhost:8080/"
        },
        "id": "Q1KPOY9R5IOK",
        "outputId": "63332411-6c32-41e1-c40e-851a2938f40f"
      },
      "source": [
        "print('Coefficients: \\n', sk_model.coef_)"
      ],
      "execution_count": 29,
      "outputs": [
        {
          "output_type": "stream",
          "text": [
            "Coefficients: \n",
            " [[-2.70168725e-07 -3.74773342e-01  7.73800834e-01 -2.11240611e+00\n",
            "  -9.09081989e-01]]\n"
          ],
          "name": "stdout"
        }
      ]
    },
    {
      "cell_type": "code",
      "metadata": {
        "id": "SrGTSRxdwcuL",
        "colab": {
          "base_uri": "https://localhost:8080/"
        },
        "outputId": "8c58b390-e4e3-47a5-b9bf-16a3d97f392a"
      },
      "source": [
        "print(theta)"
      ],
      "execution_count": 31,
      "outputs": [
        {
          "output_type": "stream",
          "text": [
            "[ 0.17915127  0.31233259  1.00876533 -1.6035587  -0.70958214]\n"
          ],
          "name": "stdout"
        }
      ]
    }
  ]
}